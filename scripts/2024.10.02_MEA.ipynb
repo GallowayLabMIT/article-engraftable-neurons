{
 "cells": [
  {
   "attachments": {},
   "cell_type": "markdown",
   "metadata": {},
   "source": [
    "# Analysis of MEA demo \n",
    "\n",
    "## Load data"
   ]
  },
  {
   "cell_type": "code",
   "execution_count": 1,
   "metadata": {},
   "outputs": [],
   "source": [
    "import pandas as pd\n",
    "import numpy as np\n",
    "from matplotlib import pyplot as plt\n",
    "from matplotlib import ticker as mticker\n",
    "from matplotlib.ticker import ScalarFormatter\n",
    "from pathlib import Path\n",
    "import re\n",
    "import seaborn as sns\n",
    "import scipy\n",
    "from statannotations.Annotator import Annotator\n",
    "import rushd as rd\n",
    "import csv"
   ]
  },
  {
   "cell_type": "code",
   "execution_count": 5,
   "metadata": {},
   "outputs": [],
   "source": [
    "figpath = '../figures/fig5/'\n",
    "df_cortical = pd.read_excel(rd.datadir/'2023.11.17_MaxWellOne'/'231117'/'summary.xlsx')\n",
    "df_iMNs = pd.read_excel(rd.datadir/'2023.11.17_MaxWellOne'/'231124'/'summary.xlsx')\n",
    "\n",
    "df = pd.concat([df_cortical, df_iMNs]).reset_index()\n"
   ]
  },
  {
   "cell_type": "code",
   "execution_count": 6,
   "metadata": {},
   "outputs": [
    {
     "data": {
      "image/png": "[encoded data removed]",
      "text/plain": [
       "<Figure size 216x216 with 1 Axes>"
      ]
     },
     "metadata": {
      "needs_background": "light"
     },
     "output_type": "display_data"
    }
   ],
   "source": [
    "fig, ax = plt.subplots(1, 1, figsize=(3, 3))\n",
    "\n",
    "x = \"Cond\" \n",
    "y = \"Firing rate [Hz]\"\n",
    "\n",
    "palette = {\n",
    "    '22522_RatCortical': '#ab1e2d',\n",
    "    '22730_NTR': 'limegreen',\n",
    "    '22585_noNTR': 'grey'}\n",
    "order = ['22522_RatCortical', '22730_NTR', '22585_noNTR']\n",
    "\n",
    "sns.barplot(ax=ax, data=df,\n",
    "    x=x, y=f'{y} mean',\n",
    "    order=order,\n",
    "    palette=palette, alpha=0.5)\n",
    "\n",
    "# Add in error bars\n",
    "x_coords = [p.get_x() + p.get_width() / 2 for p in ax.patches] # Get the x-coordinates of the bars\n",
    "for index, row in df.iterrows():\n",
    "    plt.errorbar(x=x_coords[index], y=row[f'{y} mean'], yerr=row[f'{y} std'],\n",
    "        color='black', capsize=5, capthick=2)\n",
    "    # Add 10th and 90th percentile\n",
    "    plt.plot(x_coords[index], row[f'{y} P10'], marker='o', linewidth=1, markeredgecolor='k', markerfacecolor='w', alpha=0.75,)\n",
    "    plt.plot(x_coords[index], row[f'{y} P90'], marker='o', linewidth=1, markeredgecolor='k', markerfacecolor='w', alpha=0.75,)\n",
    "\n",
    "# Format\n",
    "ax.set_ylim((0, 10))\n",
    "ax.set_ylabel(y)\n",
    "ax.set_xlabel('')\n",
    "plt.title('>2 weeks, post-sort')\n",
    "\n",
    "# plt.xticks(rotation=30)\n",
    "label_map = {\n",
    "    '22522_RatCortical': 'Rat\\ncortical',\n",
    "    '22730_NTR': 'iMNs\\n(NT+RepSox)',\n",
    "    '22585_noNTR': 'No supp.'}\n",
    "ax.set_xticklabels([label_map[l] for l in order])\n",
    "\n",
    "plt.savefig(figpath + f'{y}.svg', bbox_inches='tight')"
   ]
  },
  {
   "cell_type": "code",
   "execution_count": 7,
   "metadata": {},
   "outputs": [
    {
     "data": {
      "image/png": "[encoded data removed]",
      "text/plain": [
       "<Figure size 216x216 with 1 Axes>"
      ]
     },
     "metadata": {
      "needs_background": "light"
     },
     "output_type": "display_data"
    }
   ],
   "source": [
    "fig, ax = plt.subplots(1, 1, figsize=(3, 3))\n",
    "\n",
    "x = \"Cond\" \n",
    "y = \"Spike amplitude [µV]\"\n",
    "\n",
    "palette = {\n",
    "    '22522_RatCortical': '#ab1e2d',\n",
    "    '22730_NTR': 'limegreen',\n",
    "    '22585_noNTR': 'grey'}\n",
    "order = ['22522_RatCortical', '22730_NTR', '22585_noNTR']\n",
    "\n",
    "sns.barplot(ax=ax, data=df,\n",
    "    x=x, y=f'{y} mean',\n",
    "    order=order,\n",
    "    palette=palette, alpha=0.5)\n",
    "\n",
    "# Add in error bars\n",
    "x_coords = [p.get_x() + p.get_width() / 2 for p in ax.patches] # Get the x-coordinates of the bars\n",
    "for index, row in df.iterrows():\n",
    "    plt.errorbar(x=x_coords[index], y=row[f'{y} mean'], yerr=row[f'{y} std'],\n",
    "        color='black', capsize=5, capthick=2)\n",
    "    # Add 10th and 90th percentile\n",
    "    plt.plot(x_coords[index], row[f'{y} P10'], marker='o', linewidth=1, markeredgecolor='k', markerfacecolor='w', alpha=0.75,)\n",
    "    plt.plot(x_coords[index], row[f'{y} P90'], marker='o', linewidth=1, markeredgecolor='k', markerfacecolor='w', alpha=0.75,)\n",
    "\n",
    "# Format\n",
    "ax.set_ylim((0, 80))\n",
    "ax.set_yticks(np.arange(0, 81, 20))\n",
    "ax.set_ylabel(y)\n",
    "ax.set_xlabel('')\n",
    "plt.title('>2 weeks, post-sort')\n",
    "\n",
    "# plt.xticks(rotation=30)\n",
    "ax.set_xticklabels([label_map[l] for l in order])\n",
    "\n",
    "plt.savefig(figpath + f'{y}.svg', bbox_inches='tight')"
   ]
  },
  {
   "cell_type": "code",
   "execution_count": 8,
   "metadata": {},
   "outputs": [
    {
     "data": {
      "image/png": "[encoded data removed]",
      "text/plain": [
       "<Figure size 216x216 with 1 Axes>"
      ]
     },
     "metadata": {
      "needs_background": "light"
     },
     "output_type": "display_data"
    }
   ],
   "source": [
    "fig, ax = plt.subplots(1, 1, figsize=(3, 3))\n",
    "\n",
    "x = \"Cond\" \n",
    "y = \"Interspike interval [ms]\"\n",
    "\n",
    "palette = {\n",
    "    '22522_RatCortical': '#ab1e2d',\n",
    "    '22730_NTR': 'limegreen',\n",
    "    '22585_noNTR': 'grey'}\n",
    "order = ['22522_RatCortical', '22730_NTR', '22585_noNTR']\n",
    "\n",
    "sns.barplot(ax=ax, data=df,\n",
    "    x=x, y=f'{y} mean',\n",
    "    order=order,\n",
    "    palette=palette, alpha=0.5)\n",
    "\n",
    "# Add in error bars\n",
    "x_coords = [p.get_x() + p.get_width() / 2 for p in ax.patches] # Get the x-coordinates of the bars\n",
    "for index, row in df.iterrows():\n",
    "    plt.errorbar(x=x_coords[index], y=row[f'{y} mean'], yerr=row[f'{y} std'],\n",
    "        color='black', capsize=5, capthick=2)\n",
    "    # Add 10th and 90th percentile\n",
    "    plt.plot(x_coords[index], row[f'{y} P10'], marker='o', linewidth=1, markeredgecolor='k', markerfacecolor='w', alpha=0.75,)\n",
    "    plt.plot(x_coords[index], row[f'{y} P90'], marker='o', linewidth=1, markeredgecolor='k', markerfacecolor='w', alpha=0.75,)\n",
    "\n",
    "# Format\n",
    "ax.set_ylim((0, 180))\n",
    "ax.set_yticks(np.arange(0, 181, 50))\n",
    "ax.set_ylabel(y)\n",
    "ax.set_xlabel('')\n",
    "plt.title('>2 weeks, post-sort')\n",
    "\n",
    "# plt.xticks(rotation=30)\n",
    "ax.set_xticklabels([label_map[l] for l in order])\n",
    "\n",
    "plt.savefig(figpath + f'{y}.svg', bbox_inches='tight')"
   ]
  }
 ],
 "metadata": {
  "kernelspec": {
   "display_name": "env",
   "language": "python",
   "name": "python3"
  },
  "language_info": {
   "codemirror_mode": {
    "name": "ipython",
    "version": 3
   },
   "file_extension": ".py",
   "mimetype": "text/x-python",
   "name": "python",
   "nbconvert_exporter": "python",
   "pygments_lexer": "ipython3",
   "version": "3.9.6"
  },
  "metadata": {
   "interpreter": {
    "hash": "31f2aee4e71d21fbe5cf8b01ff0e069b9275f58929596ceb00d14d90e3e16cd6"
   }
  }
 },
 "nbformat": 4,
 "nbformat_minor": 2
}
