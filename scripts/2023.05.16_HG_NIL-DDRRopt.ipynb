{
 "cells": [
  {
   "attachments": {},
   "cell_type": "markdown",
   "metadata": {},
   "source": [
    "# Analysis of DDRR module\n",
    "\n",
    "## Load data\n",
    "Notes:\n",
    "\n",
    "1. Only singlets are included"
   ]
  },
  {
   "cell_type": "code",
   "execution_count": 1,
   "metadata": {},
   "outputs": [],
   "source": [
    "import pandas as pd\n",
    "import numpy as np\n",
    "from matplotlib import pyplot as plt\n",
    "from matplotlib.ticker import FuncFormatter\n",
    "from pathlib import Path\n",
    "import re\n",
    "import seaborn as sns\n",
    "import scipy\n",
    "from statannotations.Annotator import Annotator\n",
    "import rushd as rd\n",
    "from scipy.optimize import curve_fit\n",
    "\n",
    "# Required descriptors for annotate\n",
    "from statannotations.stats.StatTest import StatTest\n",
    "from scipy.stats import ttest_ind\n",
    "custom_long_name = 't-test for independent samples from scipy with greater 1-way (mean of the distribution underlying the first sample is greater than the mean of the distribution underlying the second sample)'\n",
    "custom_short_name = 't-test_ind_greater'\n",
    "custom_func = ttest_ind\n",
    "ttest_ind_greater = StatTest(custom_func, custom_long_name, custom_short_name, alternative='greater')\n",
    "\n",
    "custom_long_name = 't-test for independent samples from scipy with less 1-way (mean of the distribution underlying the first sample is less than the mean of the distribution underlying the second sample)'\n",
    "custom_short_name = 't-test_ind_less'\n",
    "custom_func = ttest_ind\n",
    "ttest_ind_less = StatTest(custom_func, custom_long_name, custom_short_name, alternative='less')"
   ]
  },
  {
   "attachments": {},
   "cell_type": "markdown",
   "metadata": {},
   "source": [
    "# Look at 4 dpi data\n",
    "\n",
    "## Load data"
   ]
  },
  {
   "cell_type": "code",
   "execution_count": 2,
   "metadata": {},
   "outputs": [],
   "source": [
    "# Directories\n",
    "base_datadir = rd.datadir/'2023.05.16_HG_6F-addin_4-7_4dpi'\n",
    "figpath = '../figures/fig2/'\n",
    "\n",
    "# List of ctrls and samples\n",
    "ctrl_list = ['Ctrl-RIDDW', 'Ctrl-puro', 'Ctrl-NIL']\n",
    "cond_list = ['Ctrl-puro', 'NIL', 'NIL.DD+RR', 'NIL.DDIR', 'NIL.RIDD']\n",
    "DDRR_list = ['no DDRR', 'DD+RR', 'DDIR', 'RIDD']\n",
    "\n",
    "# Store all data in list of dfs which will be converted to df at end\n",
    "data_4dpi_all = list()\n",
    "\n",
    "# get all csvs for each dir\n",
    "dir_list_1 = ['2023.05.16_HG_NIL-DDRRopt-addin_1_4dpi', '2023.05.16_HG_NIL-DDRRopt-addin_2_4dpi']\n",
    "for (j, dir_name) in enumerate(dir_list_1):\n",
    "    \n",
    "     # Load as df and note header is on 0th row\n",
    "    df = rd.flow.load_csv_with_metadata(\n",
    "        base_datadir/dir_name/'export_singlets', base_datadir/'well_metadata_NIL-DDRRopt-addin-1-2.yaml')\n",
    "    data_4dpi_all.append(df)\n",
    "\n",
    "\n",
    "# get all csvs for each dir\n",
    "dir_list_2 = ['2023.05.23_HG_NIL-DDRRopt-addin_3_4dpi', '2023.05.23_HG_NIL-DDRRopt-addin_4_4dpi']\n",
    "for (j, dir_name) in enumerate(dir_list_2):\n",
    "    \n",
    "     # Load as df and note header is on 0th row\n",
    "    df = rd.flow.load_csv_with_metadata(\n",
    "        base_datadir/dir_name/'export_singlets', base_datadir/'well_metadata_NIL-DDRRopt-addin-3-4.yaml')\n",
    "    data_4dpi_all.append(df)\n",
    "\n",
    "\n",
    "# Convert list of dfs into single df\n",
    "data_4dpi_all = pd.concat(data_4dpi_all, ignore_index=True)\n",
    "\n",
    "# Remove negative data\n",
    "data_4dpi_all = data_4dpi_all.loc[\n",
    "    (data_4dpi_all['FSC-A'] > 0) &\n",
    "    (data_4dpi_all['SSC-A'] > 0) &\n",
    "    (data_4dpi_all['eGFP-A'] > 0) &\n",
    "    (data_4dpi_all['CellTrace-FarRed-A'] > 0)\n",
    "]\n",
    "\n",
    "# Separate out ctrl and sample data\n",
    "data_4dpi_ctrl = data_4dpi_all[ data_4dpi_all['cond'].isin(ctrl_list) ]\n",
    "data_4dpi = data_4dpi_all[ data_4dpi_all['cond'].isin(cond_list) ]"
   ]
  },
  {
   "attachments": {},
   "cell_type": "markdown",
   "metadata": {},
   "source": [
    "## Categorize cells\n",
    "### Categorize cells based on CellTrace-FarRed"
   ]
  },
  {
   "cell_type": "code",
   "execution_count": 3,
   "metadata": {},
   "outputs": [
    {
     "name": "stderr",
     "output_type": "stream",
     "text": [
      "/var/folders/2d/h4qyrjcd68x7g4p2qdv30s8h0000gn/T/ipykernel_16096/1881040834.py:12: SettingWithCopyWarning: \n",
      "A value is trying to be set on a copy of a slice from a DataFrame.\n",
      "Try using .loc[row_indexer,col_indexer] = value instead\n",
      "\n",
      "See the caveats in the documentation: https://pandas.pydata.org/pandas-docs/stable/user_guide/indexing.html#returning-a-view-versus-a-copy\n",
      "  data_4dpi['CTFR_cat'] = 'CTFR-low'\n",
      "/Users/natwang/Documents/GitHub/article-engraftable-neurons/env/lib/python3.9/site-packages/pandas/core/indexing.py:1817: SettingWithCopyWarning: \n",
      "A value is trying to be set on a copy of a slice from a DataFrame.\n",
      "Try using .loc[row_indexer,col_indexer] = value instead\n",
      "\n",
      "See the caveats in the documentation: https://pandas.pydata.org/pandas-docs/stable/user_guide/indexing.html#returning-a-view-versus-a-copy\n",
      "  self._setitem_single_column(loc, value, pi)\n"
     ]
    }
   ],
   "source": [
    "# Get CTFR-low threshold for each rep s.t.\n",
    "# CTFR_low_thresh = 20% dimmest in ctrl\n",
    "rep_list = data_4dpi.rep.unique()\n",
    "CTFR_low_thresh_list = np.zeros(np.shape(rep_list))\n",
    "for (i, rep) in enumerate(rep_list):\n",
    "    CTFR_low_thresh_list[i] = np.percentile(\n",
    "        data_4dpi.loc[(data_4dpi['cond'] == 'Ctrl-puro') &\n",
    "            (data_4dpi['rep'] == rep)\n",
    "        ]['CellTrace-FarRed-A'], 20)\n",
    "\n",
    "# Categorize based on CTFR for each rep\n",
    "data_4dpi['CTFR_cat'] = 'CTFR-low'\n",
    "for (i, rep) in enumerate(rep_list):\n",
    "    data_4dpi.loc[\n",
    "        (data_4dpi['rep'] == rep_list[i]) &\n",
    "        (data_4dpi['CellTrace-FarRed-A'] > CTFR_low_thresh_list[i]),\n",
    "        'CTFR_cat'] = 'non-CTFR-low'\n",
    "\n",
    "# Calculate CTFR populations using these metrics\n",
    "well_group = ['rep', 'cond']\n",
    "count_df_reps = data_4dpi.groupby([*well_group, 'well', 'CTFR_cat'])[\n",
    "    'FSC-A'].count().unstack(fill_value=0).stack().rename('count') # Puts 0 if none rather than dropping row\n",
    "CTFR_percent_4dpi_reps = (count_df_reps*100/count_df_reps.groupby([*well_group, 'well']\n",
    "                           ).transform('sum')).reset_index(name='percent')\n",
    "\n",
    "# Extract just the hyperP\n",
    "CTFR_hyperP_count_4dpi_reps = (count_df_reps).reset_index(name='count')\n",
    "CTFR_hyperP_count_4dpi_reps = CTFR_hyperP_count_4dpi_reps.loc[(CTFR_hyperP_count_4dpi_reps['CTFR_cat'] == 'CTFR-low')]\n",
    "seedNum = 10**4 # Seeded 10k MEFs/96-well\n",
    "CTFR_hyperP_yield_4dpi_reps = (count_df_reps*100/seedNum).reset_index(name='yield')\n",
    "CTFR_hyperP_yield_4dpi_reps = CTFR_hyperP_yield_4dpi_reps.loc[(CTFR_hyperP_yield_4dpi_reps['CTFR_cat'] == 'CTFR-low')]\n",
    "\n",
    "CTFR_hyperP_percent_4dpi_reps = CTFR_percent_4dpi_reps.loc[(CTFR_percent_4dpi_reps['CTFR_cat'] == 'CTFR-low')]\n",
    "\n",
    "# Reduce to bio reps\n",
    "CTFR_hyperP_percent_4dpi = CTFR_hyperP_percent_4dpi_reps.groupby(well_group)['percent'].mean().reset_index()\n",
    "CTFR_hyperP_yield_4dpi = CTFR_hyperP_yield_4dpi_reps.groupby(well_group)['yield'].mean().reset_index()\n",
    "CTFR_hyperP_count_4dpi = CTFR_hyperP_count_4dpi_reps.groupby(well_group)['count'].mean().reset_index()"
   ]
  },
  {
   "cell_type": "code",
   "execution_count": 4,
   "metadata": {},
   "outputs": [
    {
     "data": {
      "image/png": "[encoded data removed]",
      "text/plain": [
       "<Figure size 360x216 with 1 Axes>"
      ]
     },
     "metadata": {
      "needs_background": "light"
     },
     "output_type": "display_data"
    }
   ],
   "source": [
    "fig, ax = plt.subplots(1, 1, figsize=(5, 3))\n",
    "\n",
    "# Threshold for iMNs\n",
    "rep = 1\n",
    "CTFR_low_thresh = CTFR_low_thresh_list[rep-1]\n",
    "\n",
    "# Plot CTFR-A\n",
    "x = 'CellTrace-FarRed-A'\n",
    "sns.kdeplot(data=data_4dpi.loc[\n",
    "    (data_4dpi['cond'] == 'NIL.RIDD') & (data_4dpi['rep'] == rep)],\n",
    "    ax=ax, x=x,\n",
    "    common_norm=False, log_scale=(True, False),\n",
    "    fill=True)\n",
    "\n",
    "# Plot CTFR control\n",
    "sns.kdeplot(data=data_4dpi_ctrl[(data_4dpi_ctrl['cond'] == 'Ctrl-puro')], x=x, common_norm=False,\n",
    "            ax=ax, log_scale=(True, False), color='#8b0288', fill=False, linestyle='--')\n",
    "ax.annotate('Ctrl-puro', (0.8, 0.5), color='#8b0288' , xycoords='axes fraction', ha='center')\n",
    "\n",
    "# Plot neg ctrl\n",
    "sns.kdeplot(data=data_4dpi_ctrl[(data_4dpi_ctrl['cond'] == 'Ctrl-RIDDW')], x=x, common_norm=False,\n",
    "            ax=ax, log_scale=(True, False), color='grey', fill=False, linestyle='--')\n",
    "ax.annotate('Neg', (0.22, 0.9), color='grey', xycoords='axes fraction', ha='center')\n",
    "\n",
    "# Plot threshold\n",
    "ax.axvline(CTFR_low_thresh, 0, 1, color='black')\n",
    "\n",
    "# Title\n",
    "plt.title('HG, 4 dpi, NIL + DDRR')\n",
    "# Adjust limits\n",
    "CTFR_lim = (1, 1*10**6)\n",
    "for sub_ax in plt.gcf().get_axes():\n",
    "    sub_ax.set_xlim(CTFR_lim)\n",
    "\n",
    "# Misc plotting stuff\n",
    "fig.tight_layout()  # Helps improve white spacing\n",
    "# plt.savefig(figpath + '4dpi_CTFR_dist.svg', bbox_inches='tight')"
   ]
  },
  {
   "attachments": {},
   "cell_type": "markdown",
   "metadata": {},
   "source": [
    "### Categorize cells based on eGFP"
   ]
  },
  {
   "cell_type": "code",
   "execution_count": 5,
   "metadata": {},
   "outputs": [
    {
     "data": {
      "image/png": "[encoded data removed]",
      "text/plain": [
       "<Figure size 360x216 with 1 Axes>"
      ]
     },
     "metadata": {
      "needs_background": "light"
     },
     "output_type": "display_data"
    }
   ],
   "source": [
    "fig, ax = plt.subplots(1, 1, figsize=(5, 3))\n",
    "\n",
    "# Threshold for early eGFP\n",
    "eGFP_A_thresh = 2*10**3\n",
    "\n",
    "# Plot eGFP-A\n",
    "x = 'eGFP-A'\n",
    "sns.kdeplot(data=data_4dpi.loc[(data_4dpi['cond'] == 'NIL.RIDD')],\n",
    "        ax=ax, x=x,\n",
    "        common_norm=False, log_scale=(True, False),\n",
    "        fill=True)\n",
    "\n",
    "# Plot neg ctrl\n",
    "sns.kdeplot(data=data_4dpi_ctrl[(data_4dpi_ctrl['cond'] == 'Ctrl-RIDDW')], x=x, common_norm=False,\n",
    "            ax=ax, log_scale=(True, False), color='grey', fill=False, linestyle='--')\n",
    "ax.annotate('Neg', (0.25, 0.9), color='grey', xycoords='axes fraction', ha='center')\n",
    "\n",
    "# Plot threshold\n",
    "ax.axvline(eGFP_A_thresh, 0, 1, color='black')\n",
    "\n",
    "# Title\n",
    "plt.title('HG, 4 dpi, NIL + DDRR')\n",
    "# Adjust limits\n",
    "eGFP_lim = (10, 1*10**6)\n",
    "for sub_ax in plt.gcf().get_axes():\n",
    "    sub_ax.set_xlim(eGFP_lim)"
   ]
  },
  {
   "cell_type": "code",
   "execution_count": 6,
   "metadata": {},
   "outputs": [
    {
     "name": "stderr",
     "output_type": "stream",
     "text": [
      "/var/folders/2d/h4qyrjcd68x7g4p2qdv30s8h0000gn/T/ipykernel_16096/2862881606.py:2: SettingWithCopyWarning: \n",
      "A value is trying to be set on a copy of a slice from a DataFrame.\n",
      "Try using .loc[row_indexer,col_indexer] = value instead\n",
      "\n",
      "See the caveats in the documentation: https://pandas.pydata.org/pandas-docs/stable/user_guide/indexing.html#returning-a-view-versus-a-copy\n",
      "  data_4dpi['eGFP_cat'] = 'eGFP-'\n",
      "/Users/natwang/Documents/GitHub/article-engraftable-neurons/env/lib/python3.9/site-packages/pandas/core/indexing.py:1817: SettingWithCopyWarning: \n",
      "A value is trying to be set on a copy of a slice from a DataFrame.\n",
      "Try using .loc[row_indexer,col_indexer] = value instead\n",
      "\n",
      "See the caveats in the documentation: https://pandas.pydata.org/pandas-docs/stable/user_guide/indexing.html#returning-a-view-versus-a-copy\n",
      "  self._setitem_single_column(loc, value, pi)\n"
     ]
    }
   ],
   "source": [
    "# Categorize cells based on eGFP_thresh\n",
    "data_4dpi['eGFP_cat'] = 'eGFP-'\n",
    "data_4dpi.loc[(data_4dpi['eGFP-A'] > eGFP_A_thresh), 'eGFP_cat'] = 'eGFP+'\n",
    "\n",
    "# Get total counts and percent of GFP-H+\n",
    "well_group = ['rep', 'cond']\n",
    "count_df_reps = data_4dpi.groupby([*well_group, 'well', 'eGFP_cat'])[\n",
    "    'FSC-A'].count().unstack(fill_value=0).stack().rename('count') # Puts 0 if no GFP-H+ rather than dropping row # Try size ??\n",
    "percent_df_reps = (count_df_reps*100/count_df_reps.groupby([*well_group, 'well']).transform('sum')).reset_index(name='percent')\n",
    "\n",
    "# Extract just the eGFP+ cells\n",
    "data_4dpi_eGFP_percent_reps = percent_df_reps.loc[(percent_df_reps['eGFP_cat'] == 'eGFP+')]\n",
    "# Reduce to bio reps\n",
    "data_4dpi_eGFP_percent = data_4dpi_eGFP_percent_reps.groupby(well_group)['percent'].mean().reset_index()"
   ]
  },
  {
   "attachments": {},
   "cell_type": "markdown",
   "metadata": {},
   "source": [
    "## Plot eGFP vs. HyperP at 4 dpi\n",
    "### View all"
   ]
  },
  {
   "cell_type": "code",
   "execution_count": 7,
   "metadata": {},
   "outputs": [],
   "source": [
    "# Integrate hyperP % and eGFP+% at 4 dpi into single df\n",
    "percent_4dpi_reps = CTFR_hyperP_percent_4dpi_reps.rename(columns={\"percent\":\"hyperP_percent\"}, copy=True)\n",
    "percent_4dpi_reps.drop(columns='CTFR_cat', inplace=True)\n",
    "\n",
    "percent_4dpi_reps.loc[:,'eGFP_percent'] = 0\n",
    "for index, row in percent_4dpi_reps.iterrows():\n",
    "\n",
    "    eGFP_percent = data_4dpi_eGFP_percent_reps.loc[\n",
    "        (data_4dpi_eGFP_percent_reps['rep']==row.rep) & \n",
    "        (data_4dpi_eGFP_percent_reps['well']==row.well) & \n",
    "        (data_4dpi_eGFP_percent_reps['cond']==row.cond)\n",
    "        ]['percent']\n",
    "    percent_4dpi_reps.loc[index, 'eGFP_percent'] = float(eGFP_percent)\n",
    "\n",
    "    hyperP_yield = CTFR_hyperP_yield_4dpi_reps.loc[\n",
    "        (CTFR_hyperP_yield_4dpi_reps['rep']==row.rep) & \n",
    "        (CTFR_hyperP_yield_4dpi_reps['well']==row.well) & \n",
    "        (CTFR_hyperP_yield_4dpi_reps['cond']==row.cond)\n",
    "        ]['yield']\n",
    "    percent_4dpi_reps.loc[index, 'hyperP_yield'] = float(hyperP_yield)\n",
    "\n",
    "# Condense tech reps\n",
    "grouping = ['cond', 'rep']\n",
    "percent_4dpi = percent_4dpi_reps.groupby(grouping).mean().reset_index()"
   ]
  },
  {
   "attachments": {},
   "cell_type": "markdown",
   "metadata": {},
   "source": [
    "### Collapse it down a bit"
   ]
  },
  {
   "cell_type": "code",
   "execution_count": 8,
   "metadata": {},
   "outputs": [
    {
     "data": {
      "text/plain": [
       "Text(0.5, 1.0, 'HG, 4 dpi')"
      ]
     },
     "execution_count": 8,
     "metadata": {},
     "output_type": "execute_result"
    },
    {
     "data": {
      "image/png": "[encoded data removed]",
      "text/plain": [
       "<Figure size 180x180 with 1 Axes>"
      ]
     },
     "metadata": {
      "needs_background": "light"
     },
     "output_type": "display_data"
    }
   ],
   "source": [
    "# Calc mean and SEM for each cond\n",
    "grouping = ['cond']\n",
    "percent_4dpi_mean = percent_4dpi.groupby(grouping).mean().reset_index()\n",
    "percent_4dpi_SEM = percent_4dpi.groupby(grouping).sem().reset_index()\n",
    "\n",
    "# Plotting params\n",
    "x = 'hyperP_percent'\n",
    "y = 'eGFP_percent'\n",
    "hue = 'cond'\n",
    "cond_list = ['Ctrl-puro', \n",
    "             'NIL',\n",
    "             'NIL.DD+RR', 'NIL.DDIR', 'NIL.RIDD']\n",
    "palette = {\n",
    "    'Ctrl-puro': 'black',\n",
    "    'NIL': 'grey',\n",
    "    'NIL.DD+RR': 'tab:blue',\n",
    "    'NIL.DDIR': 'tab:orange',\n",
    "    'NIL.RIDD': 'tab:red'}\n",
    "\n",
    "# Plot\n",
    "fig, ax = plt.subplots(1, 1, figsize=(2.5, 2.5))\n",
    "\n",
    "ax.errorbar(x=percent_4dpi_mean[x], y=percent_4dpi_mean[y],\n",
    "            xerr=percent_4dpi_SEM[x], yerr=percent_4dpi_SEM[y],\n",
    "            color='None', ecolor='black', elinewidth=0.5)\n",
    "            \n",
    "f = sns.scatterplot(ax=ax,\n",
    "    data=percent_4dpi_mean,\n",
    "    x=x, y=y, hue=hue, hue_order=cond_list,\n",
    "    s=100, palette=palette)\n",
    "\n",
    "sns.move_legend(ax, title='', loc='upper left', bbox_to_anchor=(1,1), frameon=False)\n",
    "ax.xaxis.set_label_text('(%) HyperP cells\\nat 4 dpi')\n",
    "ax.yaxis.set_label_text('(%) Hb9::GFP+ cells\\nat 4 dpi')\n",
    "ax.set_xticks(np.arange(0, 110, 20))\n",
    "ax.set_yticks(np.arange(0, 8.1, 2))\n",
    "plt.title('HG, 4 dpi')\n",
    "\n",
    "# plt.savefig(figpath + 'SI/4dpi_eGFP_v_hyperP.svg', bbox_inches='tight')"
   ]
  },
  {
   "attachments": {},
   "cell_type": "markdown",
   "metadata": {},
   "source": [
    "# Look at 14 dpi data"
   ]
  },
  {
   "attachments": {},
   "cell_type": "markdown",
   "metadata": {},
   "source": [
    "## Load 14 dpi data"
   ]
  },
  {
   "cell_type": "code",
   "execution_count": 9,
   "metadata": {},
   "outputs": [],
   "source": [
    "# Directories\n",
    "base_datadir = rd.datadir/'2023.05.26_HG_6F-addin_4-7_14dpi'\n",
    "\n",
    "# List of ctrls and samples\n",
    "ctrl_list = ['Ctrl-RIDDW', 'Ctrl-puro', 'Ctrl-NIL']\n",
    "cond_list = ['Ctrl-puro', 'NIL', 'NIL.DD+RR', 'NIL.DDIR', 'NIL.RIDD']\n",
    "DDRR_list = ['no DDRR', 'DD+RR', 'DDIR', 'RIDD']\n",
    "\n",
    "\n",
    "# Store all data in list of dfs which will be converted to df at end\n",
    "data_14dpi_all = list()\n",
    "\n",
    "# get all csvs for each dir\n",
    "dir_list_1 = ['2023.05.26_HG_NIL-DDRRopt-addin_1_14dpi', '2023.05.26_HG_NIL-DDRRopt-addin_2_14dpi']\n",
    "for (j, dir_name) in enumerate(dir_list_1):\n",
    "    \n",
    "     # Load as df and note header is on 0th row\n",
    "    df = rd.flow.load_csv_with_metadata(\n",
    "        base_datadir/dir_name/'export_singlets', base_datadir/'well_metadata_NIL-DDRRopt-addin-1-2.yaml')\n",
    "    data_14dpi_all.append(df)\n",
    "\n",
    "\n",
    "# get all csvs for each dir\n",
    "dir_list_2 = ['2023.06.02_HG_NIL-DDRRopt-addin_3_14dpi', '2023.06.02_HG_NIL-DDRRopt-addin_4_14dpi']\n",
    "for (j, dir_name) in enumerate(dir_list_2):\n",
    "    \n",
    "     # Load as df and note header is on 0th row\n",
    "    df = rd.flow.load_csv_with_metadata(\n",
    "        base_datadir/dir_name/'export_singlets', base_datadir/'well_metadata_NIL-DDRRopt-addin-3-4.yaml')\n",
    "    data_14dpi_all.append(df)\n",
    "\n",
    "\n",
    "# Convert list of dfs into single df\n",
    "data_14dpi_all = pd.concat(data_14dpi_all, ignore_index=True)\n",
    "\n",
    "# Remove negative data\n",
    "data_14dpi_all = data_14dpi_all.loc[\n",
    "    (data_14dpi_all['FSC-A'] > 0) &\n",
    "    (data_14dpi_all['SSC-A'] > 0) &\n",
    "    (data_14dpi_all['eGFP-A'] > 0)]\n",
    "\n",
    "# Separate out ctrl and sample data\n",
    "data_14dpi_ctrl = data_14dpi_all[ data_14dpi_all['cond'].isin(ctrl_list) ]\n",
    "data_14dpi = data_14dpi_all[ data_14dpi_all['cond'].isin(cond_list) ]"
   ]
  },
  {
   "attachments": {},
   "cell_type": "markdown",
   "metadata": {},
   "source": [
    "## Look at eGFP for NILDDRR to determine eGFP gate"
   ]
  },
  {
   "cell_type": "code",
   "execution_count": 10,
   "metadata": {},
   "outputs": [
    {
     "data": {
      "image/png": "[encoded data removed]",
      "text/plain": [
       "<Figure size 360x216 with 1 Axes>"
      ]
     },
     "metadata": {
      "needs_background": "light"
     },
     "output_type": "display_data"
    }
   ],
   "source": [
    "# Threshold for iMNs\n",
    "eGFP_H_thresh = 5*10**3\n",
    "\n",
    "# Plot eGFP-H\n",
    "fig, ax = plt.subplots(1, 1, figsize=(5, 3))\n",
    "x = 'eGFP-H'\n",
    "sns.kdeplot(data=data_14dpi.loc[(data_14dpi['cond'] == 'NIL.RIDD')],\n",
    "        ax=ax, x=x,\n",
    "        common_norm=False, log_scale=(True, False),\n",
    "        fill=True)\n",
    "\n",
    "# Plot neg ctrl\n",
    "sns.kdeplot(data=data_14dpi_ctrl[(data_14dpi_ctrl['cond'] == 'Ctrl-RIDDW')], x=x, common_norm=False,\n",
    "            ax=ax, log_scale=(True, False), color='grey', fill=False, linestyle='--')\n",
    "ax.annotate('Neg', (0.25, 0.9), color='grey', xycoords='axes fraction', ha='center')\n",
    "\n",
    "# Plot threshold\n",
    "ax.axvline(eGFP_H_thresh, 0, 1, color='black')\n",
    "\n",
    "# Title\n",
    "plt.title('HG, 4 dpi, NIL + DDRR')\n",
    "# Adjust limits\n",
    "eGFP_lim = (10, 10**6)\n",
    "for sub_ax in plt.gcf().get_axes():\n",
    "    sub_ax.set_xlim(eGFP_lim)"
   ]
  },
  {
   "cell_type": "code",
   "execution_count": 11,
   "metadata": {},
   "outputs": [
    {
     "name": "stderr",
     "output_type": "stream",
     "text": [
      "/Users/natwang/Documents/GitHub/article-engraftable-neurons/env/lib/python3.9/site-packages/pandas/core/indexing.py:1667: SettingWithCopyWarning: \n",
      "A value is trying to be set on a copy of a slice from a DataFrame.\n",
      "Try using .loc[row_indexer,col_indexer] = value instead\n",
      "\n",
      "See the caveats in the documentation: https://pandas.pydata.org/pandas-docs/stable/user_guide/indexing.html#returning-a-view-versus-a-copy\n",
      "  self.obj[key] = value\n",
      "/Users/natwang/Documents/GitHub/article-engraftable-neurons/env/lib/python3.9/site-packages/pandas/core/indexing.py:1817: SettingWithCopyWarning: \n",
      "A value is trying to be set on a copy of a slice from a DataFrame.\n",
      "Try using .loc[row_indexer,col_indexer] = value instead\n",
      "\n",
      "See the caveats in the documentation: https://pandas.pydata.org/pandas-docs/stable/user_guide/indexing.html#returning-a-view-versus-a-copy\n",
      "  self._setitem_single_column(loc, value, pi)\n"
     ]
    }
   ],
   "source": [
    "# Categorize iMNs based on eGFP_thresh\n",
    "data_14dpi.loc[:, 'eGFP_cat'] = 'fib'\n",
    "data_14dpi.loc[(data_14dpi['eGFP-H'] > eGFP_H_thresh), 'eGFP_cat'] = 'iMN'\n",
    "\n",
    "# Get total counts and percent of GFP-H+\n",
    "well_group = ['rep', 'cond']\n",
    "count_df_reps = data_14dpi.groupby([*well_group, 'well', 'eGFP_cat'])[\n",
    "    'FSC-A'].count().unstack(fill_value=0).stack().rename('count') # Puts 0 if no GFP-H+ rather than dropping row\n",
    "percent_df_reps = (count_df_reps*100/count_df_reps.groupby([*well_group, 'well']).transform('sum')).reset_index(name='percent')\n",
    "\n",
    "# Get iMN yield per condition\n",
    "seedNum = 10**4 # Seeded 10k MEFs/96-well\n",
    "data_iMN_yield_reps = (count_df_reps*100/seedNum).reset_index(name='yield')\n",
    "\n",
    "# Extract just the iMNs\n",
    "data_iMN_yield_reps = data_iMN_yield_reps.loc[(data_iMN_yield_reps['eGFP_cat'] == 'iMN')]\n",
    "data_iMN_percent_reps = percent_df_reps.loc[(percent_df_reps['eGFP_cat'] == 'iMN')]\n",
    "\n",
    "# Reduce to bio reps\n",
    "data_iMN_yield = data_iMN_yield_reps.groupby(well_group)['yield'].mean().reset_index()\n",
    "data_iMN_percent = data_iMN_percent_reps.groupby(well_group)['percent'].mean().reset_index()"
   ]
  },
  {
   "attachments": {},
   "cell_type": "markdown",
   "metadata": {},
   "source": [
    "## Selectivity and yield"
   ]
  },
  {
   "attachments": {},
   "cell_type": "markdown",
   "metadata": {},
   "source": [
    "Selectivity"
   ]
  },
  {
   "cell_type": "code",
   "execution_count": 12,
   "metadata": {},
   "outputs": [
    {
     "name": "stdout",
     "output_type": "stream",
     "text": [
      "p-value annotation legend:\n",
      "      ns: p <= 1.00e+00\n",
      "       *: 1.00e-02 < p <= 5.00e-02\n",
      "      **: 1.00e-03 < p <= 1.00e-02\n",
      "     ***: 1.00e-04 < p <= 1.00e-03\n",
      "    ****: p <= 1.00e-04\n",
      "\n",
      "NIL.DD+RR vs. NIL.DDIR: t-test independent samples with Bonferroni correction, P_val:1.000e+00 t=1.234e-01\n",
      "NIL.DDIR vs. NIL.RIDD: t-test independent samples with Bonferroni correction, P_val:1.000e+00 t=-1.125e-01\n",
      "NIL.DD+RR vs. NIL.RIDD: t-test independent samples with Bonferroni correction, P_val:1.000e+00 t=7.216e-03\n"
     ]
    },
    {
     "name": "stderr",
     "output_type": "stream",
     "text": [
      "/Users/natwang/Documents/GitHub/article-engraftable-neurons/env/lib/python3.9/site-packages/statannotations/_Plotter.py:337: UserWarning: Invalid x-position found. Are the same parameters passed to seaborn and statannotations calls? or are there few data points?\n",
      "  warnings.warn(\n"
     ]
    },
    {
     "data": {
      "text/plain": [
       "Text(-5.625, 0.5, '(%) iMN\\nof all cells')"
      ]
     },
     "execution_count": 12,
     "metadata": {},
     "output_type": "execute_result"
    },
    {
     "data": {
      "image/png": "[encoded data removed]",
      "text/plain": [
       "<Figure size 144x180 with 1 Axes>"
      ]
     },
     "metadata": {
      "needs_background": "light"
     },
     "output_type": "display_data"
    }
   ],
   "source": [
    "# General plotting params\n",
    "x = 'cond'\n",
    "y = 'percent'\n",
    "cond_list = ['NIL',\n",
    "             'NIL.DD+RR', 'NIL.DDIR', 'NIL.RIDD']\n",
    "pairs = [\n",
    "    ('NIL.DD+RR', 'NIL.DDIR'),\n",
    "    ('NIL.DD+RR', 'NIL.RIDD'),\n",
    "    ('NIL.RIDD', 'NIL.DDIR')\n",
    "]\n",
    "palette = {\n",
    "    'NIL': 'grey',\n",
    "    'NIL.DD+RR': 'tab:blue',\n",
    "    'NIL.DDIR': 'tab:orange',\n",
    "    'NIL.RIDD': 'tab:red'}\n",
    "\n",
    "marker_list = ['o', 's', '^', 'D']\n",
    "units = 'well'\n",
    "\n",
    "fig, ax = plt.subplots(1, 1, figsize=(2, 2.5))\n",
    "\n",
    "# Plot iMN percent of all cells\n",
    "sns.barplot(ax=ax, data=data_iMN_percent_reps,\n",
    "            x=x, y=y, order=cond_list, units=units,\n",
    "            alpha=0.3, palette=palette,)\n",
    "for (i, rep) in enumerate(data_iMN_percent_reps.rep.unique()):\n",
    "    sns.stripplot(ax=ax, data=data_iMN_percent_reps[data_iMN_percent_reps.rep == rep],\n",
    "                x=x, y=y, order=cond_list,\n",
    "                dodge=True, marker=marker_list[i],\n",
    "                color='white', size=5,\n",
    "                edgecolor='black', linewidth=0.4,)\n",
    "\n",
    "# Add in stats\n",
    "annot = Annotator(ax=ax, data=data_iMN_percent, x=x, y=y,\n",
    "                  pairs=pairs, order=cond_list)\n",
    "annot.configure(test='t-test_ind', comparisons_correction='Bonferroni', text_format='star', loc='inside', verbose=2)\n",
    "annot.apply_and_annotate()\n",
    "\n",
    "# Add barplot labels\n",
    "for sub_ax in plt.gcf().get_axes():\n",
    "    for i in sub_ax.containers:\n",
    "        bar_labels = sub_ax.bar_label(i, fmt='%0.1f', padding=5)\n",
    "        for label in bar_labels:\n",
    "            label.set_bbox(dict(facecolor='white', alpha=0.75, linewidth=0, pad=1))    \n",
    "\n",
    "# Format\n",
    "# ax.set_box_aspect(3/len(ax.patches)) #change 10 to modify the y/x axis ratio\n",
    "# fig.tight_layout()  # Helps improve white spacing\n",
    "ax.set_xticklabels(\n",
    "    ['NIL',\n",
    "     'NIL\\n+ DD + R\\n+ R', 'NIL\\n+ DDIR\\n+ R', 'NIL\\n+ RIDD\\n+ R'])\n",
    "ax.set_title('14 dpi')\n",
    "ax.set_yticks(np.arange(0, 70, 10))\n",
    "ax.yaxis.set_label_text('(%) iMN\\nof all cells')\n",
    "\n",
    "# plt.savefig(figpath + '14dpi_iMN_percent_label.svg', bbox_inches='tight')"
   ]
  },
  {
   "attachments": {},
   "cell_type": "markdown",
   "metadata": {},
   "source": [
    "Yield"
   ]
  },
  {
   "cell_type": "code",
   "execution_count": 13,
   "metadata": {},
   "outputs": [
    {
     "name": "stdout",
     "output_type": "stream",
     "text": [
      "p-value annotation legend:\n",
      "      ns: p <= 1.00e+00\n",
      "       *: 1.00e-02 < p <= 5.00e-02\n",
      "      **: 1.00e-03 < p <= 1.00e-02\n",
      "     ***: 1.00e-04 < p <= 1.00e-03\n",
      "    ****: p <= 1.00e-04\n",
      "\n",
      "NIL.DD+RR vs. NIL.DDIR: t-test independent samples with Bonferroni correction, P_val:1.205e-03 t=4.167e+00\n",
      "NIL.DDIR vs. NIL.RIDD: t-test independent samples with Bonferroni correction, P_val:3.747e-03 t=-3.726e+00\n",
      "NIL.DD+RR vs. NIL.RIDD: t-test independent samples with Bonferroni correction, P_val:1.000e+00 t=-1.288e-01\n"
     ]
    },
    {
     "name": "stderr",
     "output_type": "stream",
     "text": [
      "/Users/natwang/Documents/GitHub/article-engraftable-neurons/env/lib/python3.9/site-packages/statannotations/_Plotter.py:337: UserWarning: Invalid x-position found. Are the same parameters passed to seaborn and statannotations calls? or are there few data points?\n",
      "  warnings.warn(\n",
      "/Users/natwang/Documents/GitHub/article-engraftable-neurons/env/lib/python3.9/site-packages/statannotations/_Plotter.py:337: UserWarning: Invalid x-position found. Are the same parameters passed to seaborn and statannotations calls? or are there few data points?\n",
      "  warnings.warn(\n",
      "/Users/natwang/Documents/GitHub/article-engraftable-neurons/env/lib/python3.9/site-packages/statannotations/_Plotter.py:337: UserWarning: Invalid x-position found. Are the same parameters passed to seaborn and statannotations calls? or are there few data points?\n",
      "  warnings.warn(\n"
     ]
    },
    {
     "data": {
      "text/plain": [
       "Text(-12.0, 0.5, '(%) iMN yield\\nper MEF plated')"
      ]
     },
     "execution_count": 13,
     "metadata": {},
     "output_type": "execute_result"
    },
    {
     "data": {
      "image/png": "[encoded data removed]",
      "text/plain": [
       "<Figure size 144x180 with 1 Axes>"
      ]
     },
     "metadata": {
      "needs_background": "light"
     },
     "output_type": "display_data"
    }
   ],
   "source": [
    "# General plotting params\n",
    "x = 'cond'\n",
    "y = 'yield'\n",
    "cond_list = ['NIL',\n",
    "             'NIL.DD+RR', 'NIL.DDIR', 'NIL.RIDD']\n",
    "pairs = [\n",
    "    ('NIL.DD+RR', 'NIL.DDIR'),\n",
    "    ('NIL.DD+RR', 'NIL.RIDD'),\n",
    "    ('NIL.RIDD', 'NIL.DDIR')\n",
    "]\n",
    "palette = {\n",
    "    'NIL': 'grey',\n",
    "    'NIL.DD+RR': 'tab:blue',\n",
    "    'NIL.DDIR': 'tab:orange',\n",
    "    'NIL.RIDD': 'tab:red'}\n",
    "\n",
    "marker_list = ['o', 's', '^', 'D']\n",
    "units = 'well'\n",
    "\n",
    "fig, ax = plt.subplots(1, 1, figsize=(2, 2.5))\n",
    "\n",
    "# Plot iMN yield of all cells\n",
    "sns.barplot(ax=ax, data=data_iMN_yield_reps,\n",
    "            x=x, y=y, order=cond_list, units=units,\n",
    "            alpha=0.3, palette=palette)\n",
    "for (i, rep) in enumerate(data_iMN_yield_reps.rep.unique()):\n",
    "    sns.stripplot(ax=ax, data=data_iMN_yield_reps[data_iMN_yield_reps.rep == rep],\n",
    "                x=x, y=y, order=cond_list,\n",
    "                dodge=True, marker=marker_list[i],\n",
    "                color='white', size=5,\n",
    "                edgecolor='black', linewidth=0.4,)\n",
    "\n",
    "# Add in stats\n",
    "annot = Annotator(ax=ax, data=data_iMN_yield_reps, x=x, y=y,\n",
    "                  pairs=pairs, order=cond_list)\n",
    "annot.configure(test='t-test_ind', comparisons_correction='Bonferroni', text_format='star', loc='inside', verbose=2)\n",
    "annot.apply_and_annotate()\n",
    "\n",
    "# Add barplot labels\n",
    "for sub_ax in plt.gcf().get_axes():\n",
    "    for i in sub_ax.containers:\n",
    "        bar_labels = sub_ax.bar_label(i, fmt='%0.1f', padding=5)\n",
    "        for label in bar_labels:\n",
    "            label.set_bbox(dict(facecolor='white', alpha=0.75, linewidth=0, pad=1))    \n",
    "\n",
    "# Format\n",
    "# fig.tight_layout()  # Helps improve white spacing\n",
    "ax.set_xticklabels(\n",
    "    ['NIL',\n",
    "     'NIL\\n+ DD + R\\n+ R', 'NIL\\n+ DDIR\\n+ R', 'NIL\\n+ RIDD\\n+ R'])\n",
    "ax.set_title('14 dpi')\n",
    "# ax.set_xticks(np.arange(0, 50, 10))\n",
    "ax.yaxis.set_label_text('(%) iMN yield\\nper MEF plated')\n",
    "# plt.savefig(figpath + '14dpi_iMN_yield_label.svg', bbox_inches='tight')"
   ]
  },
  {
   "attachments": {},
   "cell_type": "markdown",
   "metadata": {},
   "source": [
    "## Look at 4 dpi hyperP vs. iMN"
   ]
  },
  {
   "cell_type": "code",
   "execution_count": 14,
   "metadata": {},
   "outputs": [],
   "source": [
    "# Copy dataframe of hyperP 4 dpi cells that will integrate with the 14 dpi data and rename column to be clear\n",
    "data_both_reps = CTFR_hyperP_percent_4dpi_reps.rename(columns={\"percent\":\"4dpi HyperP percent\"}, copy=True)\n",
    "data_both_reps.drop(columns='CTFR_cat', inplace=True)\n",
    "\n",
    "# Integrate iMN yield and percent into 4 dpi data\n",
    "for index, row in data_both_reps.iterrows():\n",
    "    # If puro, ignore\n",
    "    if row.cond == 'Ctrl-puro': \n",
    "        continue\n",
    "    # Get iMN yield\n",
    "    iMN_yield = data_iMN_yield_reps.loc[\n",
    "        (data_iMN_yield_reps['rep']==row.rep) & \n",
    "        (data_iMN_yield_reps['cond']==row.cond) &\n",
    "        (data_iMN_yield_reps['well']==row.well)\n",
    "        ]['yield']\n",
    "    # Get iMN percent\n",
    "    iMN_percent = data_iMN_percent_reps.loc[\n",
    "        (data_iMN_percent_reps['rep']==row.rep) & \n",
    "        (data_iMN_percent_reps['cond']==row.cond) &\n",
    "        (data_iMN_percent_reps['well']==row.well)\n",
    "        ]['percent']\n",
    "    # Get 4 dpi hyperP yield\n",
    "    hyperP_yield = CTFR_hyperP_yield_4dpi_reps.loc[\n",
    "        (CTFR_hyperP_yield_4dpi_reps['rep']==row.rep) & \n",
    "        (CTFR_hyperP_yield_4dpi_reps['cond']==row.cond) &\n",
    "        (CTFR_hyperP_yield_4dpi_reps['well']==row.well)\n",
    "        ]['yield']\n",
    "    # Get 4 dpi hyperP count\n",
    "    hyperP_count = CTFR_hyperP_count_4dpi_reps.loc[\n",
    "        (CTFR_hyperP_count_4dpi_reps['rep']==row.rep) &\n",
    "        (CTFR_hyperP_count_4dpi_reps['cond']==row.cond) &\n",
    "        (CTFR_hyperP_count_4dpi_reps['well']==row.well)\n",
    "        ]['count']\n",
    "    percent_4dpi_reps.loc[index, 'hyperP_count'] = float(hyperP_count)\n",
    "    # Integrate in\n",
    "    # If empty (i.e. wells not collected), skip it\n",
    "    if len(iMN_yield) == 0:\n",
    "        continue\n",
    "    data_both_reps.loc[index, 'iMN yield'] = float(iMN_yield)\n",
    "    data_both_reps.loc[index, 'iMN percent'] = float(iMN_percent)\n",
    "    data_both_reps.loc[index, '4dpi HyperP yield'] = float(hyperP_yield)\n",
    "    data_both_reps.loc[index, '4dpi HyperP count'] = float(hyperP_count)\n",
    "\n",
    "# Condense tech reps\n",
    "grouping = ['cond', 'rep']\n",
    "data_both = data_both_reps.groupby(grouping).mean(numeric_only=True).reset_index()"
   ]
  },
  {
   "attachments": {},
   "cell_type": "markdown",
   "metadata": {},
   "source": [
    "### Selectivity"
   ]
  },
  {
   "cell_type": "code",
   "execution_count": 15,
   "metadata": {},
   "outputs": [
    {
     "data": {
      "text/plain": [
       "Text(0.5, 1.0, 'HG, 14 dpi')"
      ]
     },
     "execution_count": 15,
     "metadata": {},
     "output_type": "execute_result"
    },
    {
     "data": {
      "image/png": "[encoded data removed]",
      "text/plain": [
       "<Figure size 180x180 with 1 Axes>"
      ]
     },
     "metadata": {
      "needs_background": "light"
     },
     "output_type": "display_data"
    }
   ],
   "source": [
    "# Calc mean and SEM for each cond\n",
    "grouping = ['cond']\n",
    "data_both_mean = data_both.groupby(grouping).mean().reset_index()\n",
    "data_both_SEM = data_both.groupby(grouping).sem().reset_index()\n",
    "\n",
    "# Plotting params\n",
    "x = '4dpi HyperP percent'\n",
    "y = 'iMN percent'\n",
    "hue = 'cond'\n",
    "cond_list = ['NIL',\n",
    "             'NIL.DD+RR', 'NIL.DDIR', 'NIL.RIDD']\n",
    "palette = {\n",
    "    'NIL': 'grey',\n",
    "    'NIL.DD+RR': 'tab:blue',\n",
    "    'NIL.DDIR': 'tab:orange',\n",
    "    'NIL.RIDD': 'tab:red'}\n",
    "\n",
    "# Plot\n",
    "fig, ax = plt.subplots(1, 1, figsize=(2.5, 2.5))\n",
    "\n",
    "ax.errorbar(x=data_both_mean[x], y=data_both_mean[y],\n",
    "            xerr=data_both_SEM[x], yerr=data_both_SEM[y],\n",
    "            color='None', ecolor='black', elinewidth=0.5)\n",
    "            \n",
    "f = sns.scatterplot(ax=ax,\n",
    "    data=data_both_mean,\n",
    "    x=x, y=y, hue=hue,\n",
    "    hue_order=cond_list,\n",
    "    s=100, palette=palette)\n",
    "\n",
    "sns.move_legend(ax, title='', loc='upper left', bbox_to_anchor=(1,1), frameon=False)\n",
    "ax.xaxis.set_label_text('(%) HyperP cells\\nat 4 dpi')\n",
    "ax.yaxis.set_label_text('(%) iMN\\nof all cells')\n",
    "ax.set_xticks(np.arange(0, 110, 20))\n",
    "ax.set_yticks(np.arange(0, 50, 10))\n",
    "plt.title('HG, 14 dpi')\n",
    "\n",
    "# plt.savefig(figpath + 'SI/14dpi_iMNpercent_v_hyperP.svg', bbox_inches='tight')"
   ]
  },
  {
   "attachments": {},
   "cell_type": "markdown",
   "metadata": {},
   "source": [
    "## Yield"
   ]
  },
  {
   "attachments": {},
   "cell_type": "markdown",
   "metadata": {},
   "source": [
    "Collapse it down"
   ]
  },
  {
   "cell_type": "code",
   "execution_count": 16,
   "metadata": {},
   "outputs": [
    {
     "data": {
      "text/plain": [
       "Text(0.5, 1.0, '14 dpi')"
      ]
     },
     "execution_count": 16,
     "metadata": {},
     "output_type": "execute_result"
    },
    {
     "data": {
      "image/png": "[encoded data removed]",
      "text/plain": [
       "<Figure size 180x180 with 1 Axes>"
      ]
     },
     "metadata": {
      "needs_background": "light"
     },
     "output_type": "display_data"
    }
   ],
   "source": [
    "# Calc mean and SEM for each cond\n",
    "grouping = ['cond']\n",
    "data_both_mean = data_both.groupby(grouping).mean().reset_index()\n",
    "data_both_SEM = data_both.groupby(grouping).sem().reset_index()\n",
    "\n",
    "# Plotting params\n",
    "x = '4dpi HyperP count'\n",
    "y = 'iMN yield'\n",
    "hue = 'cond'\n",
    "cond_list = ['NIL',\n",
    "             'NIL.DD+RR', 'NIL.DDIR', 'NIL.RIDD']\n",
    "palette = {\n",
    "    'NIL': 'grey',\n",
    "    'NIL.DD+RR': 'tab:blue',\n",
    "    'NIL.DDIR': 'tab:orange',\n",
    "    'NIL.RIDD': 'tab:red'}\n",
    "\n",
    "# Plot\n",
    "fig, ax = plt.subplots(1, 1, figsize=(2.5, 2.5))\n",
    "\n",
    "ax.errorbar(x=data_both_mean[x], y=data_both_mean[y],\n",
    "            xerr=data_both_SEM[x], yerr=data_both_SEM[y],\n",
    "            color='None', ecolor='black', elinewidth=0.5)\n",
    "\n",
    "f = sns.scatterplot(ax=ax,\n",
    "    data=data_both_mean,\n",
    "    x=x, y=y, hue=hue,\n",
    "    hue_order=cond_list,\n",
    "    s=100, palette=palette)\n",
    "\n",
    "# Format\n",
    "sns.move_legend(ax, title='', loc='upper left', bbox_to_anchor=(1,1), frameon=False)\n",
    "\n",
    "ax.xaxis.set_label_text('(#) Total hyperP\\nat 4 dpi')\n",
    "ax.yaxis.set_label_text('(%) iMN yield\\nper MEF plated')\n",
    "# ax.set_xticks(np.arange(0, 110, 20))\n",
    "k_formatter = FuncFormatter(lambda x, _: f'{x:.0f}' if abs(x) < 1000 else f'{x/1000:.0f}k')\n",
    "ax.xaxis.set_major_formatter(k_formatter)\n",
    "ax.set_yticks(np.arange(0, 201, 50))\n",
    "ax.set_ylim(-10, 210)\n",
    "plt.title('14 dpi')\n",
    "\n",
    "# plt.savefig(figpath + 'SI/14dpi_iMNyield_v_hyperPcount.svg', bbox_inches='tight')"
   ]
  }
 ],
 "metadata": {
  "kernelspec": {
   "display_name": "env",
   "language": "python",
   "name": "python3"
  },
  "language_info": {
   "codemirror_mode": {
    "name": "ipython",
    "version": 3
   },
   "file_extension": ".py",
   "mimetype": "text/x-python",
   "name": "python",
   "nbconvert_exporter": "python",
   "pygments_lexer": "ipython3",
   "version": "3.9.6"
  },
  "metadata": {
   "interpreter": {
    "hash": "31f2aee4e71d21fbe5cf8b01ff0e069b9275f58929596ceb00d14d90e3e16cd6"
   }
  }
 },
 "nbformat": 4,
 "nbformat_minor": 2
}
