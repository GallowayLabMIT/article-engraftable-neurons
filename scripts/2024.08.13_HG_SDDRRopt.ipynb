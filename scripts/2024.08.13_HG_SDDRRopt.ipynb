{
 "cells": [
  {
   "cell_type": "markdown",
   "metadata": {},
   "source": [
    "# Analysis for SDDIR vs RISDD"
   ]
  },
  {
   "cell_type": "code",
   "execution_count": 1,
   "metadata": {},
   "outputs": [],
   "source": [
    "import rushd as rd\n",
    "import pandas as pd\n",
    "import numpy as np\n",
    "from matplotlib import pyplot as plt\n",
    "from matplotlib import ticker as mticker\n",
    "from pathlib import Path\n",
    "import re\n",
    "import seaborn as sns\n",
    "import scipy\n",
    "from statannotations.Annotator import Annotator\n",
    "# Required descriptors for annotate\n",
    "from scipy.stats import ttest_ind\n",
    "from statannotations.stats.StatTest import StatTest\n",
    "custom_long_name = 't-test for independent samples from scipy with greater 1-way (mean of the distribution underlying the first sample is greater than the mean of the distribution underlying the second sample)'\n",
    "custom_short_name = 't-test_ind_greater'\n",
    "custom_func = ttest_ind\n",
    "ttest_ind_greater = StatTest(custom_func, custom_long_name, custom_short_name, alternative='greater')"
   ]
  },
  {
   "cell_type": "code",
   "execution_count": 4,
   "metadata": {},
   "outputs": [],
   "source": [
    "base_datadir = rd.datadir/'2024.09.02_reprogramming_1-2'\n",
    "\n",
    "experimentdir1 = base_datadir/'2024.09.02_reprogramming'\n",
    "experimentdir2 = base_datadir/'2024.09.30_reprogramming'\n",
    "\n",
    "figpath = '../figures/fig3/'"
   ]
  },
  {
   "cell_type": "markdown",
   "metadata": {},
   "source": [
    "# Load Data"
   ]
  },
  {
   "cell_type": "code",
   "execution_count": 5,
   "metadata": {},
   "outputs": [],
   "source": [
    "df1 = rd.flow.load_csv_with_metadata(data_path=experimentdir1/'csv',yaml_path=experimentdir1/'metadata.yaml')\n",
    "df2 = rd.flow.load_csv_with_metadata(data_path=experimentdir2/'csv',yaml_path=experimentdir2/'metadata.yaml')\n",
    "\n",
    "data_14dpi_all = pd.concat([df1,df2])\n",
    "\n",
    "data_14dpi_all['condition'] = data_14dpi_all['cassette'] + ' ' + data_14dpi_all['JNKi']\n",
    "\n",
    "# Remove negative data\n",
    "data_14dpi_all = data_14dpi_all.loc[(data_14dpi_all['GFP-A'] > 0)]\n",
    "\n",
    "# Get just JNKi = 0\n",
    "data_14dpi = data_14dpi_all.loc[data_14dpi_all.JNKi == '0 uM'].reset_index()\n"
   ]
  },
  {
   "cell_type": "markdown",
   "metadata": {},
   "source": [
    "# GFP gate"
   ]
  },
  {
   "cell_type": "code",
   "execution_count": 6,
   "metadata": {},
   "outputs": [
    {
     "data": {
      "text/plain": [
       "<matplotlib.lines.Line2D at 0x13c57d760>"
      ]
     },
     "execution_count": 6,
     "metadata": {},
     "output_type": "execute_result"
    },
    {
     "data": {
      "image/png": "[encoded data removed]",
      "text/plain": [
       "<Figure size 360x216 with 1 Axes>"
      ]
     },
     "metadata": {
      "needs_background": "light"
     },
     "output_type": "display_data"
    }
   ],
   "source": [
    "# Threshold for iMNs\n",
    "GFP_thresh = 8e3\n",
    "\n",
    "fig, ax = plt.subplots(1, 1, figsize=(5, 3))\n",
    "\n",
    "# Plot\n",
    "x = 'GFP-A'\n",
    "hue = 'cassette'\n",
    "\n",
    "sns.kdeplot(ax=ax, data=data_14dpi,\n",
    "    x=x, hue=hue,\n",
    "    common_norm=False, log_scale=(True, False),\n",
    "    fill=True)\n",
    "\n",
    "# Title\n",
    "# plt.suptitle('14 dpi')\n",
    "# Adjust limits\n",
    "eGFP_lim = (1, 1*10**6)\n",
    "for sub_ax in plt.gcf().get_axes():\n",
    "    sub_ax.set_xlim(eGFP_lim)\n",
    "\n",
    "sub_ax.axvline(GFP_thresh, 0, 1, color='black')"
   ]
  },
  {
   "cell_type": "code",
   "execution_count": 7,
   "metadata": {},
   "outputs": [],
   "source": [
    "# Categorize iMNs based on eGFP_thresh\n",
    "data_14dpi['GFP_cat'] = 'fib'\n",
    "data_14dpi.loc[(data_14dpi['GFP-A'] > GFP_thresh), 'GFP_cat'] = 'iMN'\n",
    "\n",
    "# Get total counts and percent of eGFP-H+\n",
    "well_group = ['cassette', 'rep']\n",
    "\n",
    "count_df_reps = data_14dpi.groupby([*well_group, 'well', 'GFP_cat'])[\n",
    "    'FSC-A'].count().unstack(fill_value=0).stack().rename('count') # Puts 0 if no eGFP-H+ rather than dropping row\n",
    "percent_df_reps = (count_df_reps*100/count_df_reps.groupby([*well_group, 'well']).transform('sum')).dropna().reset_index(name='percent')\n",
    "\n",
    "# Extract just the iMNs\n",
    "data_iMN_percent_reps = percent_df_reps.loc[(percent_df_reps['GFP_cat'] == 'iMN')]\n",
    "\n",
    "# Get iMN yield per condition\n",
    "seedNum = 10**4 # Seeded 10k MEFs/96-wel\n",
    "# Divide by seeded cells to get yield, then extract just the iMNs\n",
    "data_iMN_yield_reps = (count_df_reps*100/seedNum).reset_index(name='yield')\n",
    "data_iMN_yield_reps = data_iMN_yield_reps.loc[data_iMN_yield_reps['GFP_cat'] == 'iMN']\n",
    "\n",
    "# Reduce to bio reps\n",
    "data_iMN_percent = data_iMN_percent_reps.groupby(well_group)['percent'].mean().reset_index()\n",
    "data_iMN_yield = data_iMN_yield_reps.groupby(well_group)['yield'].mean().reset_index()"
   ]
  },
  {
   "cell_type": "code",
   "execution_count": 8,
   "metadata": {},
   "outputs": [
    {
     "name": "stdout",
     "output_type": "stream",
     "text": [
      "p-value annotation legend:\n",
      "      ns: p <= 1.00e+00\n",
      "       *: 1.00e-02 < p <= 5.00e-02\n",
      "      **: 1.00e-03 < p <= 1.00e-02\n",
      "     ***: 1.00e-04 < p <= 1.00e-03\n",
      "    ****: p <= 1.00e-04\n",
      "\n",
      "SDDIR vs. RISDD: t-test for independent samples from scipy with greater 1-way (mean of the distribution underlying the first sample is greater than the mean of the distribution underlying the second sample), P_val:2.662e-02 Stat=2.401e+00\n"
     ]
    },
    {
     "name": "stderr",
     "output_type": "stream",
     "text": [
      "/Users/natwang/Documents/GitHub/article-engraftable-neurons/env/lib/python3.9/site-packages/statannotations/_Plotter.py:337: UserWarning: Invalid x-position found. Are the same parameters passed to seaborn and statannotations calls? or are there few data points?\n",
      "  warnings.warn(\n",
      "/Users/natwang/Documents/GitHub/article-engraftable-neurons/env/lib/python3.9/site-packages/statannotations/_Plotter.py:337: UserWarning: Invalid x-position found. Are the same parameters passed to seaborn and statannotations calls? or are there few data points?\n",
      "  warnings.warn(\n",
      "/Users/natwang/Documents/GitHub/article-engraftable-neurons/env/lib/python3.9/site-packages/statannotations/_Plotter.py:337: UserWarning: Invalid x-position found. Are the same parameters passed to seaborn and statannotations calls? or are there few data points?\n",
      "  warnings.warn(\n"
     ]
    },
    {
     "data": {
      "image/png": "[encoded data removed]",
      "text/plain": [
       "<Figure size 144x144 with 1 Axes>"
      ]
     },
     "metadata": {
      "needs_background": "light"
     },
     "output_type": "display_data"
    }
   ],
   "source": [
    "# General plotting params\n",
    "x = 'cassette'\n",
    "order = ['SDDIR', 'RISDD']\n",
    "marker_list = ['o', 's', '^', 'D', 'P', 'X'] \n",
    "units = 'well'\n",
    "\n",
    "# Plot iMN yield per MEF plated\n",
    "fig, ax = plt.subplots(1, 1, figsize=(2,2))\n",
    "y = 'yield'\n",
    "sns.barplot(ax=ax, data=data_iMN_yield_reps,\n",
    "            x=x, y=y, order=order, units=units,\n",
    "            alpha=0.3)\n",
    "\n",
    "# Plot reps\n",
    "for (i, rep) in enumerate(data_iMN_yield_reps.rep.unique()):\n",
    "    sns.stripplot(\n",
    "        ax=ax, data=data_iMN_yield_reps[data_iMN_yield_reps.rep == rep],\n",
    "        x=x, y=y, order=order,\n",
    "        dodge=True, marker=marker_list[i],\n",
    "        color='white', size=7,\n",
    "        edgecolor='black', linewidth=0.4,)\n",
    "    \n",
    "# Add stats\n",
    "pairs = [('SDDIR', 'RISDD')]\n",
    "annot = Annotator(ax=ax, data=data_iMN_yield, x=x, y=y, pairs=pairs, order=order)\n",
    "annot.configure(test=ttest_ind_greater, text_format='star', loc='inside', verbose=2)\n",
    "annot.apply_and_annotate()\n",
    "\n",
    "\n",
    "# # Add barplot labels\n",
    "for i in ax.containers:\n",
    "    bar_labels = ax.bar_label(i, fmt='%0.0f', padding=0)\n",
    "    for label in bar_labels:\n",
    "        label.set_bbox(dict(facecolor='white', alpha=0.75, linewidth=0, pad=1))\n",
    "    \n",
    "# Format\n",
    "plt.title('14 dpi')\n",
    "ax.set_xlabel('')\n",
    "ax.yaxis.set_label_text('(%) iMN yield\\nper MEF plated')\n",
    "plt.xticks(rotation=0)\n",
    "# label_map = {\n",
    "#     'RISDD': 'NIL+\\nHRAS$G12V$-IRES-SNAPp53DD',\n",
    "#     'SDDIR': 'NIL+\\nSNAPp53DD-IRES-HRAS$G12V$',\n",
    "# }\n",
    "label_map = {\n",
    "    'RISDD': 'NIL\\n+RIsP',\n",
    "    'SDDIR': 'NIL\\n+sPIR',\n",
    "}\n",
    "ax.set_xticklabels([label_map[label] for label in order])\n",
    "\n",
    "# plt.savefig(figpath + 'SI/SDDRRopt_iMN_yield.svg', bbox_inches='tight')"
   ]
  },
  {
   "cell_type": "code",
   "execution_count": 9,
   "metadata": {},
   "outputs": [
    {
     "name": "stdout",
     "output_type": "stream",
     "text": [
      "p-value annotation legend:\n",
      "      ns: p <= 1.00e+00\n",
      "       *: 1.00e-02 < p <= 5.00e-02\n",
      "      **: 1.00e-03 < p <= 1.00e-02\n",
      "     ***: 1.00e-04 < p <= 1.00e-03\n",
      "    ****: p <= 1.00e-04\n",
      "\n",
      "SDDIR vs. RISDD: t-test for independent samples from scipy with greater 1-way (mean of the distribution underlying the first sample is greater than the mean of the distribution underlying the second sample), P_val:1.585e-01 Stat=1.092e+00\n"
     ]
    },
    {
     "data": {
      "image/png": "[encoded data removed]",
      "text/plain": [
       "<Figure size 144x144 with 1 Axes>"
      ]
     },
     "metadata": {
      "needs_background": "light"
     },
     "output_type": "display_data"
    }
   ],
   "source": [
    "# General plotting params\n",
    "x = 'cassette'\n",
    "order = ['SDDIR', 'RISDD']\n",
    "marker_list = ['o', 's', '^', 'D', 'P', 'X'] \n",
    "units = 'well'\n",
    "\n",
    "# Plot iMN yield per MEF plated\n",
    "fig, ax = plt.subplots(1, 1, figsize=(2, 2))\n",
    "y = 'percent'\n",
    "sns.barplot(ax=ax, data=data_iMN_percent_reps,\n",
    "            x=x, y=y, order=order, units=units,\n",
    "            alpha=0.3)\n",
    "\n",
    "# Plot reps\n",
    "for (i, rep) in enumerate(data_iMN_percent_reps.rep.unique()):\n",
    "    sns.stripplot(\n",
    "        ax=ax, data=data_iMN_percent_reps[data_iMN_percent_reps.rep == rep],\n",
    "        x=x, y=y, order=order,\n",
    "        dodge=True, marker=marker_list[i],\n",
    "        color='white', size=7,\n",
    "        edgecolor='black', linewidth=0.4,)\n",
    "    \n",
    "# Add stats\n",
    "pairs = [('SDDIR', 'RISDD')]\n",
    "annot = Annotator(ax=ax, data=data_iMN_percent, x=x, y=y, pairs=pairs, order=order)\n",
    "annot.configure(test=ttest_ind_greater, text_format='star', loc='inside', verbose=2)\n",
    "annot.apply_and_annotate()\n",
    "\n",
    "# # Add barplot labels\n",
    "for i in ax.containers:\n",
    "    bar_labels = ax.bar_label(i, fmt='%0.0f', padding=0)\n",
    "    for label in bar_labels:\n",
    "        label.set_bbox(dict(facecolor='white', alpha=0.75, linewidth=0, pad=1))\n",
    "    \n",
    "# Format\n",
    "plt.title('14 dpi')\n",
    "ax.set_xlabel('')\n",
    "ax.yaxis.set_label_text('(%) iMN\\nof all cells')\n",
    "label_map = {\n",
    "    'RISDD': 'NIL\\n+RIsP',\n",
    "    'SDDIR': 'NIL\\n+sPIR',\n",
    "}\n",
    "ax.set_xticklabels([label_map[label] for label in order])\n",
    "# ax.set_yticks(np.arange(0, 40, 10))\n",
    "# plt.savefig(figpath + 'SI/SDDRRopt_iMN_percent.svg', bbox_inches='tight')"
   ]
  }
 ],
 "metadata": {
  "kernelspec": {
   "display_name": "env",
   "language": "python",
   "name": "python3"
  },
  "language_info": {
   "codemirror_mode": {
    "name": "ipython",
    "version": 3
   },
   "file_extension": ".py",
   "mimetype": "text/x-python",
   "name": "python",
   "nbconvert_exporter": "python",
   "pygments_lexer": "ipython3",
   "version": "3.9.6"
  }
 },
 "nbformat": 4,
 "nbformat_minor": 2
}
