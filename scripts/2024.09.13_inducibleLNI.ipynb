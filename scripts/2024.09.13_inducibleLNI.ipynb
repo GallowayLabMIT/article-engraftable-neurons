{
 "cells": [
  {
   "attachments": {},
   "cell_type": "markdown",
   "metadata": {},
   "source": [
    "# Analysis of inducible reprogramming sorted at 14 dpi\n",
    "\n",
    "Notes:\n",
    "\n",
    "1. Replated at 14 dpi at 40k/96-well"
   ]
  },
  {
   "cell_type": "code",
   "execution_count": 2,
   "metadata": {},
   "outputs": [],
   "source": [
    "import pandas as pd\n",
    "import numpy as np\n",
    "from matplotlib import pyplot as plt\n",
    "from matplotlib import ticker as mticker\n",
    "import seaborn as sns\n",
    "import scipy\n",
    "from statannotations.Annotator import Annotator\n",
    "import rushd as rd\n",
    "import re\n",
    "from pathlib import Path"
   ]
  },
  {
   "attachments": {},
   "cell_type": "markdown",
   "metadata": {},
   "source": [
    "# 14 dpi data - sort"
   ]
  },
  {
   "cell_type": "markdown",
   "metadata": {},
   "source": [
    "## Load data"
   ]
  },
  {
   "cell_type": "code",
   "execution_count": 3,
   "metadata": {},
   "outputs": [],
   "source": [
    "# Directories\n",
    "datadir = rd.datadir/'2024.09.13_inducibleLNI_14dpi'/'export_P3'\n",
    "figpath = '../figures/fig3/'\n",
    "\n",
    "# Store all data in list of dfs which will be converted to df at end\n",
    "data_14dpi_P3 = list()\n",
    "\n",
    "# Get all CVs\n",
    "files = Path(datadir).glob('*.csv') \n",
    "for i, file in enumerate(files):\n",
    "\n",
    "    # Extract metadata from csv title\n",
    "    match = re.search(\n",
    "        'export_Specimen_001_(?P<virus>.+)_(?P<SNAP>.+)_(?P<dox>.+)_(?P<rep>.+)_P3.csv', file.name)\n",
    "\n",
    "    # Load as df and note header is on 0th row\n",
    "    df = pd.read_csv(file, header=0)\n",
    "\n",
    "    # Update columns in df with metadata from file name\n",
    "    if match.group('virus') == 'retro':\n",
    "        df['inducible_cat'] = False\n",
    "    else:\n",
    "        df['inducible_cat'] = True\n",
    "    df['virus'] = match.group('virus')\n",
    "\n",
    "    if match.group('SNAP') == 'SNAP':\n",
    "        df['SNAP_cat'] = True\n",
    "    else:\n",
    "        df['SNAP_cat'] = False\n",
    "\n",
    "    if match.group('dox') == 'Dox':\n",
    "        df['Dox_cat'] = True\n",
    "    else:\n",
    "        df['Dox_cat'] = False\n",
    "\n",
    "    df['rep'] = int(match.group('rep'))\n",
    "    \n",
    "    data_14dpi_P3.append(df)\n",
    "\n",
    "\n",
    "# Convert list of dfs into single df\n",
    "data_14dpi_P3 = pd.concat(data_14dpi_P3, ignore_index=True)\n",
    "\n",
    "# Remove negative data\n",
    "data_14dpi_P3 = data_14dpi_P3.loc[\n",
    "    (data_14dpi_P3['FITC-A'] > 0) & \n",
    "    (data_14dpi_P3['APC-A'] > 0)\n",
    "]\n"
   ]
  },
  {
   "cell_type": "markdown",
   "metadata": {},
   "source": [
    "## Look at iMN purity at 14 dpi"
   ]
  },
  {
   "cell_type": "markdown",
   "metadata": {},
   "source": [
    "### Gate iMNs"
   ]
  },
  {
   "cell_type": "code",
   "execution_count": 4,
   "metadata": {},
   "outputs": [
    {
     "data": {
      "text/plain": [
       "<matplotlib.lines.Line2D at 0x302892400>"
      ]
     },
     "execution_count": 4,
     "metadata": {},
     "output_type": "execute_result"
    },
    {
     "data": {
      "image/png": "[encoded data removed]",
      "text/plain": [
       "<Figure size 360x216 with 1 Axes>"
      ]
     },
     "metadata": {
      "needs_background": "light"
     },
     "output_type": "display_data"
    }
   ],
   "source": [
    "# Threshold for iMNs\n",
    "eGFP_A_thresh = 6*10**3\n",
    "\n",
    "fig, ax = plt.subplots(1, 1, figsize=(5, 3))\n",
    "\n",
    "# Plot eGFP-A\n",
    "x = 'FITC-A'\n",
    "hue = 'cond'\n",
    "\n",
    "sns.kdeplot(ax=ax, data=data_14dpi_P3.loc[data_14dpi_P3.inducible_cat == False],\n",
    "    x=x, color='limegreen',\n",
    "    common_norm=False, log_scale=(True, False),\n",
    "    fill=True)\n",
    "\n",
    "# Plot neg ctrl\n",
    "sns.kdeplot(data=data_14dpi_P3[(data_14dpi_P3.inducible_cat == True) & (data_14dpi_P3.Dox_cat == False)], x=x, common_norm=False,\n",
    "            ax=ax, log_scale=(True, False), color='grey', fill=False, linestyle='--')\n",
    "ax.annotate('Neg', (0.1, 0.9), color='grey', xycoords='axes fraction', ha='center')\n",
    "\n",
    "# Title\n",
    "plt.suptitle('14 dpi')\n",
    "# Adjust limits\n",
    "eGFP_lim = (10, 1*10**6)\n",
    "for sub_ax in plt.gcf().get_axes():\n",
    "    sub_ax.set_xlim(eGFP_lim)\n",
    "\n",
    "sub_ax.axvline(eGFP_A_thresh, 0, 1, color='black')\n",
    "\n",
    "# plt.savefig(figpath + 'eGFP-dist.svg', bbox_inches='tight')"
   ]
  },
  {
   "cell_type": "code",
   "execution_count": 5,
   "metadata": {},
   "outputs": [],
   "source": [
    "# Categorize iMNs based on eGFP_thresh\n",
    "data_14dpi_P3['eGFP_cat'] = 'fib'\n",
    "data_14dpi_P3.loc[(data_14dpi_P3['FITC-A'] > eGFP_A_thresh), 'eGFP_cat'] = 'iMN'\n",
    "\n",
    "# Get total counts and percent of eGFP-H+\n",
    "well_group = ['inducible_cat', 'virus', 'SNAP_cat', 'Dox_cat', 'rep']\n",
    "count_df_reps = data_14dpi_P3.groupby([*well_group, 'eGFP_cat'])[\n",
    "    'FSC-A'].count().unstack(fill_value=0).stack().rename('count') # Puts 0 if no eGFP-H+ rather than dropping row\n",
    "percent_df_reps = (count_df_reps*100/count_df_reps.groupby([*well_group]).transform('sum')).dropna().reset_index(name='percent')\n",
    "\n",
    "# Extract just the iMNs\n",
    "data_iMN_percent = percent_df_reps.loc[(percent_df_reps['eGFP_cat'] == 'iMN')]"
   ]
  },
  {
   "attachments": {},
   "cell_type": "markdown",
   "metadata": {},
   "source": [
    "### iMN purity"
   ]
  },
  {
   "cell_type": "code",
   "execution_count": 6,
   "metadata": {},
   "outputs": [],
   "source": [
    "# Make copy of just SNAP stained cells\n",
    "df = data_iMN_percent.copy()\n",
    "df = df.loc[df.SNAP_cat] \n",
    "\n",
    "for index, row in df.iterrows():\n",
    "    if row.virus == 'retro':\n",
    "        df.loc[index, 'cond'] = 'retro'\n",
    "    elif row.virus == 'lenti':\n",
    "        if row.Dox_cat == True:\n",
    "            df.loc[index, 'cond'] = 'lenti_Dox'\n",
    "        else:\n",
    "            df.loc[index, 'cond'] = 'lenti_noDox'"
   ]
  },
  {
   "cell_type": "code",
   "execution_count": 7,
   "metadata": {},
   "outputs": [
    {
     "name": "stdout",
     "output_type": "stream",
     "text": [
      "p-value annotation legend:\n",
      "      ns: p <= 1.00e+00\n",
      "       *: 1.00e-02 < p <= 5.00e-02\n",
      "      **: 1.00e-03 < p <= 1.00e-02\n",
      "     ***: 1.00e-04 < p <= 1.00e-03\n",
      "    ****: p <= 1.00e-04\n",
      "\n",
      "lenti_noDox vs. lenti_Dox: t-test independent samples, P_val:7.959e-04 t=-9.138e+00\n",
      "lenti_Dox vs. retro: t-test independent samples, P_val:3.424e-03 t=-6.209e+00\n"
     ]
    },
    {
     "name": "stderr",
     "output_type": "stream",
     "text": [
      "/Users/natwang/Documents/GitHub/article-engraftable-neurons/env/lib/python3.9/site-packages/statannotations/_Plotter.py:337: UserWarning: Invalid x-position found. Are the same parameters passed to seaborn and statannotations calls? or are there few data points?\n",
      "  warnings.warn(\n",
      "/Users/natwang/Documents/GitHub/article-engraftable-neurons/env/lib/python3.9/site-packages/statannotations/_Plotter.py:337: UserWarning: Invalid x-position found. Are the same parameters passed to seaborn and statannotations calls? or are there few data points?\n",
      "  warnings.warn(\n",
      "/Users/natwang/Documents/GitHub/article-engraftable-neurons/env/lib/python3.9/site-packages/statannotations/_Plotter.py:337: UserWarning: Invalid x-position found. Are the same parameters passed to seaborn and statannotations calls? or are there few data points?\n",
      "  warnings.warn(\n",
      "/Users/natwang/Documents/GitHub/article-engraftable-neurons/env/lib/python3.9/site-packages/statannotations/_Plotter.py:337: UserWarning: Invalid x-position found. Are the same parameters passed to seaborn and statannotations calls? or are there few data points?\n",
      "  warnings.warn(\n",
      "/Users/natwang/Documents/GitHub/article-engraftable-neurons/env/lib/python3.9/site-packages/statannotations/_Plotter.py:337: UserWarning: Invalid x-position found. Are the same parameters passed to seaborn and statannotations calls? or are there few data points?\n",
      "  warnings.warn(\n",
      "/Users/natwang/Documents/GitHub/article-engraftable-neurons/env/lib/python3.9/site-packages/statannotations/_Plotter.py:337: UserWarning: Invalid x-position found. Are the same parameters passed to seaborn and statannotations calls? or are there few data points?\n",
      "  warnings.warn(\n",
      "/Users/natwang/Documents/GitHub/article-engraftable-neurons/env/lib/python3.9/site-packages/statannotations/_Plotter.py:337: UserWarning: Invalid x-position found. Are the same parameters passed to seaborn and statannotations calls? or are there few data points?\n",
      "  warnings.warn(\n"
     ]
    },
    {
     "data": {
      "image/png": "[encoded data removed]",
      "text/plain": [
       "<Figure size 180x180 with 1 Axes>"
      ]
     },
     "metadata": {
      "needs_background": "light"
     },
     "output_type": "display_data"
    }
   ],
   "source": [
    "# General plotting params\n",
    "x = 'cond'\n",
    "y = 'percent'\n",
    "\n",
    "marker_list = ['o', 's', '^', 'D', 'P', 'X'] \n",
    "\n",
    "fig, ax = plt.subplots(1, 1, figsize=(2.5, 2.5))\n",
    "\n",
    "# Plot lenti\n",
    "order = ['lenti_noDox', 'lenti_Dox', 'retro']\n",
    "palette = {'lenti_noDox': 'lightgray',\n",
    "           'lenti_Dox': 'limegreen',\n",
    "           'retro': 'limegreen'}\n",
    "\n",
    "# Plot bar plot\n",
    "g = sns.barplot(\n",
    "    ax=ax, data=df,\n",
    "    x=x, y=y, \n",
    "    order=order, palette=palette, alpha=0.5)\n",
    "# Plot reps\n",
    "for (i, rep) in enumerate(df.rep.unique()):\n",
    "    sns.stripplot(\n",
    "        ax=ax, data=df[df.rep == rep],\n",
    "        x=x, y=y, order=order,\n",
    "        dodge=True, marker=marker_list[i],\n",
    "        color='white', size=7,\n",
    "        edgecolor='black', linewidth=0.4,)\n",
    "\n",
    "\n",
    "# Add in stats\n",
    "pairs = [('lenti_noDox', 'lenti_Dox'), ('retro', 'lenti_Dox')]\n",
    "annot = Annotator(ax=ax,\n",
    "    data=df,\n",
    "    x=x, y=y, pairs=pairs, \n",
    "    order=order)\n",
    "annot.configure(test='t-test_ind', text_format='star', loc='inside', verbose=2)\n",
    "annot.apply_test().annotate(line_offset_to_group=0.15)\n",
    "\n",
    "# Add barplot labels\n",
    "for i in ax.containers:\n",
    "    bar_labels = ax.bar_label(i, fmt='%0.0f', padding=5)\n",
    "    for label in bar_labels:\n",
    "        label.set_bbox(dict(facecolor='white', alpha=0.75, linewidth=0, pad=1))  \n",
    "\n",
    "# Format\n",
    "plt.title('14 dpi')\n",
    "ax.set_xlabel('')\n",
    "ax.yaxis.set_label_text('(%) iMN\\nof all cells')\n",
    "ax.set_yticks(np.arange(0, 65, 20))\n",
    "ax.set_xticklabels(['Inducible\\n(TRE3G)\\n–Dox', 'Induc.\\n(TRE3G)\\n+Dox', 'Const.\\n(Retro)'])\n",
    "\n",
    "plt.savefig(figpath + 'SI/inducible_iMN_percent.svg', bbox_inches='tight')"
   ]
  }
 ],
 "metadata": {
  "kernelspec": {
   "display_name": "env",
   "language": "python",
   "name": "python3"
  },
  "language_info": {
   "codemirror_mode": {
    "name": "ipython",
    "version": 3
   },
   "file_extension": ".py",
   "mimetype": "text/x-python",
   "name": "python",
   "nbconvert_exporter": "python",
   "pygments_lexer": "ipython3",
   "version": "3.9.6"
  },
  "metadata": {
   "interpreter": {
    "hash": "31f2aee4e71d21fbe5cf8b01ff0e069b9275f58929596ceb00d14d90e3e16cd6"
   }
  }
 },
 "nbformat": 4,
 "nbformat_minor": 2
}
