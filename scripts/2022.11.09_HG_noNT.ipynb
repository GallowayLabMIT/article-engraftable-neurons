{
 "cells": [
  {
   "attachments": {},
   "cell_type": "markdown",
   "metadata": {},
   "source": [
    "# Analysis of NIL reprogramming with different dropouts and NT drop out\n",
    "Notes:\n",
    "\n",
    "1. Only singlets are included"
   ]
  },
  {
   "cell_type": "code",
   "execution_count": 1,
   "metadata": {},
   "outputs": [],
   "source": [
    "import pandas as pd\n",
    "import numpy as np\n",
    "from matplotlib import pyplot as plt\n",
    "import seaborn as sns\n",
    "import scipy\n",
    "from statannotations.Annotator import Annotator\n",
    "from statannotations.stats.StatTest import StatTest\n",
    "import rushd as rd\n",
    "import re\n",
    "from pathlib import Path\n",
    "\n",
    "# Required descriptors for annotate\n",
    "from scipy.stats import ttest_ind\n",
    "custom_long_name = 't-test for independent samples from scipy with greater 1-way (mean of the distribution underlying the first sample is greater than the mean of the distribution underlying the second sample)'\n",
    "custom_short_name = 't-test_ind_greater'\n",
    "custom_func = ttest_ind\n",
    "ttest_ind_greater = StatTest(custom_func, custom_long_name, custom_short_name, alternative='greater')\n",
    "\n",
    "custom_long_name = 't-test for independent samples from scipy with less 1-way (mean of the distribution underlying the first sample is less than the mean of the distribution underlying the second sample)'\n",
    "custom_short_name = 't-test_ind_less'\n",
    "custom_func = ttest_ind\n",
    "ttest_ind_less = StatTest(custom_func, custom_long_name, custom_short_name, alternative='less')"
   ]
  },
  {
   "attachments": {},
   "cell_type": "markdown",
   "metadata": {},
   "source": [
    "## Load data"
   ]
  },
  {
   "cell_type": "code",
   "execution_count": 3,
   "metadata": {},
   "outputs": [],
   "source": [
    "# Directories\n",
    "base_datadir = rd.datadir/'2022.11.06_no_NT'\n",
    "figpath = '../figures/fig5/'\n",
    "\n",
    "# List of data folder names\n",
    "dir_list = ['2022.06.13_no_NT_01', '2022.11.06_no_NT_02']\n",
    "\n",
    "# Store all data in list of dfs which will be converted to df at end\n",
    "data = list()\n",
    "\n",
    "# get all csvs for each dir\n",
    "for (j, dir_name) in enumerate(dir_list):\n",
    "\n",
    "    datadir = base_datadir/dir_name/'export_singlets'\n",
    "    files = Path(datadir).glob('*.csv') \n",
    "\n",
    "    for i, file in enumerate(files):\n",
    "\n",
    "        # Extract metadata from csv title\n",
    "        match = re.search(\n",
    "            'export_(?P<cond>.+)_(?P<sampleNum>\\d)_Singlets.csv', file.name)\n",
    "        # If no match, keep going\n",
    "        if match is None:\n",
    "            print('No match for {}'.format(file.name))\n",
    "            continue\n",
    "\n",
    "        # Load as df and note header is on 0th row\n",
    "        df = pd.read_csv(file, header=0)\n",
    "\n",
    "        # Update columns in df with metadata from file name\n",
    "        df['cond'] = match.group('cond')\n",
    "        df['sampleNum'] = int(match.group('sampleNum'))\n",
    "        df['replicate'] = j\n",
    "\n",
    "        # Add df to list\n",
    "        data.append(df)\n",
    "\n",
    "# Convert list of dfs into single df\n",
    "data = pd.concat(data, ignore_index=True)\n",
    "\n",
    "# Remove negative data\n",
    "data = data.loc[\n",
    "    (data['GFP-A'] > 0)\n",
    "]"
   ]
  },
  {
   "cell_type": "markdown",
   "metadata": {},
   "source": [
    "Import Koch data"
   ]
  },
  {
   "cell_type": "code",
   "execution_count": 5,
   "metadata": {},
   "outputs": [],
   "source": [
    "# Store all data in list of dfs which will be converted to df at end\n",
    "data_KI = list()\n",
    "\n",
    "datadir = rd.datadir/'2023.10.20_BAL-noNT'/'export_singlets'\n",
    "files = Path(datadir).glob('*.csv') \n",
    "\n",
    "# Increment bio rep\n",
    "j = j+1\n",
    "for i, file in enumerate(files):\n",
    "\n",
    "    # Extract metadata from csv title\n",
    "    match = re.search(\n",
    "        'export_(?P<cond>.+)_(?P<sampleNum>\\d)_Singlets.csv', file.name)\n",
    "    # If no match, keep going\n",
    "    if match is None:\n",
    "        print('No match for {}'.format(file.name))\n",
    "        continue\n",
    "\n",
    "    # Load as df and note header is on 0th row\n",
    "    df = pd.read_csv(file, header=0)\n",
    "\n",
    "    # Update columns in df with metadata from file name\n",
    "    df['cond'] = match.group('cond')\n",
    "    df['sampleNum'] = int(match.group('sampleNum'))\n",
    "    df['replicate'] = j\n",
    "\n",
    "    # Add df to list\n",
    "    data_KI.append(df)\n",
    "\n",
    "# Convert list of dfs into single df\n",
    "data_KI = pd.concat(data_KI, ignore_index=True)\n",
    "\n",
    "# Remove negative data\n",
    "data_KI = data_KI.loc[\n",
    "    (data_KI['FITC-A'] > 0)\n",
    "]"
   ]
  },
  {
   "attachments": {},
   "cell_type": "markdown",
   "metadata": {},
   "source": [
    "## Categorize eGFP+ cells\n",
    "### Define eGFP cut-off for non-KI"
   ]
  },
  {
   "cell_type": "code",
   "execution_count": null,
   "metadata": {},
   "outputs": [
    {
     "data": {
      "image/png": "[encoded data removed]",
      "text/plain": [
       "<Figure size 360x216 with 1 Axes>"
      ]
     },
     "metadata": {
      "needs_background": "light"
     },
     "output_type": "display_data"
    }
   ],
   "source": [
    "# Threshold for iMNs\n",
    "GFP_thresh = 5*10**3\n",
    "\n",
    "# Plot GFP-H\n",
    "fig, ax = plt.subplots(1, 1, figsize=(5, 3))\n",
    "x = 'GFP-H'\n",
    "sns.kdeplot(data=data.loc[(data['cond'] == 'NIL-DDRR_NTs')],\n",
    "        ax=ax, x=x,\n",
    "        common_norm = False, log_scale=(True, False),\n",
    "        fill=True, color='limegreen')\n",
    "ax.axvline(GFP_thresh, 0, 1, color='black')\n",
    "\n",
    "# Title\n",
    "plt.suptitle('HG, 14 dpi')\n",
    "# Adjust limits\n",
    "GFP_lim = (10, 5*10**5)\n",
    "for sub_ax in plt.gcf().get_axes():\n",
    "    sub_ax.set_xlim(GFP_lim)\n",
    "\n",
    "# Misc plotting stuff\n",
    "fig.tight_layout()  # Helps improve white spacing"
   ]
  },
  {
   "cell_type": "code",
   "execution_count": 7,
   "metadata": {},
   "outputs": [],
   "source": [
    "# Categorize iMNs based on eGFP_thresh\n",
    "data['GFP_cat'] = 'fib'\n",
    "data.loc[(data['GFP-H'] > GFP_thresh), 'GFP_cat'] = 'iMN'\n",
    "\n",
    "# Get total counts and percent of GFP-H+\n",
    "well_group = ['cond', 'replicate']\n",
    "count_df_reps = data.groupby([*well_group, 'sampleNum', 'GFP_cat'])[\n",
    "    'FSC-A'].count().unstack(fill_value=0).stack().rename('count') # Puts 0 if no eGFP-H+ rather than dropping row\n",
    "percent_df_reps = (count_df_reps*100/count_df_reps.groupby([*well_group, 'sampleNum']).transform('sum')).dropna().reset_index(name='percent')\n",
    "\n",
    "# Extract just the iMNs\n",
    "data_iMN_percent_reps_nonKI = percent_df_reps.loc[(percent_df_reps['GFP_cat'] == 'iMN')]\n",
    "\n",
    "# Get iMN yield per condition\n",
    "seedNum = 10**4 # Seeded 10k MEFs/96-wel\n",
    "# Divide by seeded cells to get yield, then extract just the iMNs\n",
    "data_iMN_yield_reps_nonKI = (count_df_reps*100/seedNum).reset_index(name='yield')\n",
    "data_iMN_yield_reps_nonKI = data_iMN_yield_reps_nonKI.loc[data_iMN_yield_reps_nonKI['GFP_cat'] == 'iMN']\n",
    "\n",
    "# Reduce to bio reps\n",
    "data_iMN_percent_nonKI = data_iMN_percent_reps_nonKI.groupby(well_group)['percent'].mean().reset_index()\n",
    "data_iMN_yield_nonKI = data_iMN_yield_reps_nonKI.groupby(well_group)['yield'].mean().reset_index()"
   ]
  },
  {
   "cell_type": "markdown",
   "metadata": {},
   "source": [
    "### Do again for KI"
   ]
  },
  {
   "cell_type": "code",
   "execution_count": null,
   "metadata": {},
   "outputs": [
    {
     "data": {
      "image/png": "[encoded data removed]",
      "text/plain": [
       "<Figure size 360x216 with 1 Axes>"
      ]
     },
     "metadata": {
      "needs_background": "light"
     },
     "output_type": "display_data"
    }
   ],
   "source": [
    "# Threshold for iMNs\n",
    "FITC_thresh = 5*10**3\n",
    "\n",
    "# Plot FITC\n",
    "fig, ax = plt.subplots(1, 1, figsize=(5, 3))\n",
    "x = 'FITC-A'\n",
    "sns.kdeplot(data=data_KI.loc[(data_KI['cond'] == 'NIL-HIP-W_NTs_RS')],\n",
    "        ax=ax, x=x,\n",
    "        common_norm = False, log_scale=(True, False),\n",
    "        fill=True, color='limegreen')\n",
    "ax.axvline(FITC_thresh, 0, 1, color='black')\n",
    "\n",
    "# Plot neg\n",
    "sns.kdeplot(data=data_KI.loc[(data_KI['cond'] == 'NIL_NoNTs')],\n",
    "        ax=ax, x=x,\n",
    "        common_norm = False, log_scale=(True, False),\n",
    "        fill=False, color='grey', linestyle='--')\n",
    "\n",
    "# Title\n",
    "plt.suptitle('HG, 14 dpi - KI')\n",
    "# Adjust limits\n",
    "FITC_lim = (1, 1*10**6)\n",
    "for sub_ax in plt.gcf().get_axes():\n",
    "    sub_ax.set_xlim(FITC_lim)\n",
    "\n",
    "# Misc plotting stuff\n",
    "fig.tight_layout()  # Helps improve white spacing"
   ]
  },
  {
   "cell_type": "code",
   "execution_count": 9,
   "metadata": {},
   "outputs": [],
   "source": [
    "# Categorize iMNs based on eGFP_thresh\n",
    "data_KI['FITC_cat'] = 'fib'\n",
    "data_KI.loc[(data_KI['FITC-A'] > FITC_thresh), 'FITC_cat'] = 'iMN'\n",
    "\n",
    "# Get total counts and percent of GFP-H+\n",
    "well_group = ['cond', 'replicate']\n",
    "count_df_reps = data_KI.groupby([*well_group, 'sampleNum', 'FITC_cat'])[\n",
    "    'FSC-A'].count().unstack(fill_value=0).stack().rename('count') # Puts 0 if no eGFP-H+ rather than dropping row\n",
    "percent_df_reps = (count_df_reps*100/count_df_reps.groupby([*well_group, 'sampleNum']).transform('sum')).dropna().reset_index(name='percent')\n",
    "\n",
    "# Extract just the iMNs\n",
    "data_iMN_percent_reps_KI = percent_df_reps.loc[(percent_df_reps['FITC_cat'] == 'iMN')]\n",
    "\n",
    "# Get iMN yield per condition\n",
    "seedNum = 10**4 # Seeded 10k MEFs/96-wel\n",
    "# Divide by seeded cells to get yield, then extract just the iMNs\n",
    "data_iMN_yield_reps_KI = (count_df_reps*100/seedNum).reset_index(name='yield')\n",
    "data_iMN_yield_reps_KI = data_iMN_yield_reps_KI.loc[data_iMN_yield_reps_KI['FITC_cat'] == 'iMN']\n",
    "\n",
    "# Reduce to bio reps\n",
    "data_iMN_percent_KI = data_iMN_percent_reps_KI.groupby(well_group)['percent'].mean().reset_index()\n",
    "data_iMN_yield_KI = data_iMN_yield_reps_KI.groupby(well_group)['yield'].mean().reset_index()"
   ]
  },
  {
   "cell_type": "markdown",
   "metadata": {},
   "source": [
    "### Combine both data sets"
   ]
  },
  {
   "cell_type": "code",
   "execution_count": 10,
   "metadata": {},
   "outputs": [],
   "source": [
    "data_iMN_yield_reps = pd.concat([data_iMN_yield_reps_nonKI, data_iMN_yield_reps_KI], ignore_index=True)\n",
    "data_iMN_yield = pd.concat([data_iMN_yield_nonKI, data_iMN_yield_KI], ignore_index=True)\n",
    "data_iMN_percent_reps = pd.concat([data_iMN_percent_reps_nonKI, data_iMN_percent_reps_KI], ignore_index=True)\n",
    "data_iMN_percent = pd.concat([data_iMN_percent_nonKI, data_iMN_percent_KI], ignore_index=True)"
   ]
  },
  {
   "attachments": {},
   "cell_type": "markdown",
   "metadata": {},
   "source": [
    "## Plot iMN yield and percent"
   ]
  },
  {
   "attachments": {},
   "cell_type": "markdown",
   "metadata": {},
   "source": [
    "# Look at with and without NT"
   ]
  },
  {
   "cell_type": "code",
   "execution_count": 12,
   "metadata": {},
   "outputs": [
    {
     "name": "stdout",
     "output_type": "stream",
     "text": [
      "p-value annotation legend:\n",
      "      ns: p <= 1.00e+00\n",
      "       *: 1.00e-02 < p <= 5.00e-02\n",
      "      **: 1.00e-03 < p <= 1.00e-02\n",
      "     ***: 1.00e-04 < p <= 1.00e-03\n",
      "    ****: p <= 1.00e-04\n",
      "\n",
      "NIL_NTs vs. NIL_NoNTs: t-test for independent samples from scipy with greater 1-way (mean of the distribution underlying the first sample is greater than the mean of the distribution underlying the second sample), P_val:3.914e-02 Stat=2.353e+00\n"
     ]
    },
    {
     "name": "stderr",
     "output_type": "stream",
     "text": [
      "/Users/natwang/Documents/GitHub/article-engraftable-neurons/env/lib/python3.9/site-packages/statannotations/_Plotter.py:337: UserWarning: Invalid x-position found. Are the same parameters passed to seaborn and statannotations calls? or are there few data points?\n",
      "  warnings.warn(\n"
     ]
    },
    {
     "data": {
      "image/png": "[encoded data removed]",
      "text/plain": [
       "<Figure size 108x108 with 1 Axes>"
      ]
     },
     "metadata": {
      "needs_background": "light"
     },
     "output_type": "display_data"
    }
   ],
   "source": [
    "# Plotting params\n",
    "x = 'cond'\n",
    "units = 'sampleNum'\n",
    "cond_list = ['NIL_NTs', 'NIL_NoNTs']\n",
    "marker_list = ['o', 's', '^', 'D']\n",
    "\n",
    "# Plot\n",
    "fig, ax = plt.subplots(1, 1, figsize=(1.5, 1.5))\n",
    "\n",
    "# Plot iMN yield\n",
    "y = 'yield'\n",
    "f = sns.barplot(ax=ax, data=data_iMN_yield_reps,\n",
    "                x=x, y=y, order=cond_list,\n",
    "                units=units, alpha=0.3)\n",
    "for (i, rep) in enumerate(data_iMN_yield_reps.replicate.unique()):\n",
    "    sns.stripplot(\n",
    "        ax=ax, data=data_iMN_yield_reps[data_iMN_yield_reps.replicate == rep],\n",
    "        x=x, y=y, order=cond_list,\n",
    "        dodge=True, marker=marker_list[i],\n",
    "        color='white', size=5,\n",
    "        edgecolor='black', linewidth=0.4,)\n",
    "\n",
    "# Pairs for stats comp\n",
    "pairs = [('NIL_NTs', 'NIL_NoNTs')]\n",
    "# Add in stats for iMN yield\n",
    "annot = Annotator(ax=ax, data=data_iMN_yield, x=x, y=y, pairs=pairs, order=cond_list)\n",
    "annot.configure(test=ttest_ind_greater, text_format='star', loc='inside', verbose=2)\n",
    "annot.apply_and_annotate()\n",
    "\n",
    "# Add barplot labels\n",
    "for i in ax.containers:\n",
    "    bar_labels = ax.bar_label(i, fmt='%0.1f', padding=10)\n",
    "    for label in bar_labels:\n",
    "        label.set_bbox(dict(facecolor='white', alpha=0.75, linewidth=0, pad=1))\n",
    "\n",
    "# Format\n",
    "f.set_xticklabels(['NT', 'None'])\n",
    "ax.yaxis.set_label_text('(%) iMN yield\\nper MEF plated')\n",
    "# ax.yaxis.set_ticks(np.arange(0, 1.6, 0.4))\n",
    "# ax.set_box_aspect(4/len(ax.patches)) #change 10 to modify the y/x axis ratio\n",
    "plt.title('14 dpi, NIL')\n",
    "# fig.tight_layout()  # Helps improve white spacing\n",
    "\n",
    "# plt.savefig(figpath + 'bar_yield_noNT_NIL_new-smaller.svg', bbox_inches='tight')"
   ]
  },
  {
   "cell_type": "code",
   "execution_count": null,
   "metadata": {},
   "outputs": [
    {
     "name": "stdout",
     "output_type": "stream",
     "text": [
      "p-value annotation legend:\n",
      "      ns: p <= 1.00e+00\n",
      "       *: 1.00e-02 < p <= 5.00e-02\n",
      "      **: 1.00e-03 < p <= 1.00e-02\n",
      "     ***: 1.00e-04 < p <= 1.00e-03\n",
      "    ****: p <= 1.00e-04\n",
      "\n",
      "NIL_NTs vs. NIL_NoNTs: t-test for independent samples from scipy with greater 1-way (mean of the distribution underlying the first sample is greater than the mean of the distribution underlying the second sample), P_val:3.914e-02 Stat=2.353e+00\n"
     ]
    },
    {
     "name": "stderr",
     "output_type": "stream",
     "text": [
      "/Users/natwang/Documents/GitHub/article-engraftable-neurons/env/lib/python3.9/site-packages/statannotations/_Plotter.py:337: UserWarning: Invalid x-position found. Are the same parameters passed to seaborn and statannotations calls? or are there few data points?\n",
      "  warnings.warn(\n"
     ]
    },
    {
     "data": {
      "image/png": "[encoded data removed]",
      "text/plain": [
       "<Figure size 144x180 with 1 Axes>"
      ]
     },
     "metadata": {
      "needs_background": "light"
     },
     "output_type": "display_data"
    }
   ],
   "source": [
    "# Plotting params\n",
    "x = 'cond'\n",
    "units = 'sampleNum'\n",
    "cond_list = ['NIL_NTs', 'NIL_NoNTs']\n",
    "marker_list = ['o', 's', '^', 'D']\n",
    "\n",
    "# Plot\n",
    "fig, ax = plt.subplots(1, 1, figsize=(2, 2.5))\n",
    "\n",
    "# Plot iMN yield\n",
    "y = 'yield'\n",
    "f = sns.barplot(ax=ax, data=data_iMN_yield_reps,\n",
    "                x=x, y=y, order=cond_list,\n",
    "                units=units, alpha=0.3)\n",
    "for (i, rep) in enumerate(data_iMN_yield_reps.replicate.unique()):\n",
    "    sns.stripplot(\n",
    "        ax=ax, data=data_iMN_yield_reps[data_iMN_yield_reps.replicate == rep],\n",
    "        x=x, y=y, order=cond_list,\n",
    "        dodge=True, marker=marker_list[i],\n",
    "        color='white', size=5,\n",
    "        edgecolor='black', linewidth=0.4,)\n",
    "\n",
    "# Pairs for stats comp\n",
    "pairs = [('NIL_NTs', 'NIL_NoNTs')]\n",
    "# Add in stats for iMN yield\n",
    "annot = Annotator(ax=ax, data=data_iMN_yield, x=x, y=y, pairs=pairs, order=cond_list)\n",
    "annot.configure(test=ttest_ind_greater, text_format='star', loc='inside', verbose=2)\n",
    "annot.apply_and_annotate()\n",
    "\n",
    "# Add barplot labels\n",
    "for i in ax.containers:\n",
    "    bar_labels = ax.bar_label(i, fmt='%0.1f', padding=10)\n",
    "    for label in bar_labels:\n",
    "        label.set_bbox(dict(facecolor='white', alpha=0.75, linewidth=0, pad=1))\n",
    "\n",
    "# Format\n",
    "f.set_xticklabels(['NT', 'None'])\n",
    "ax.yaxis.set_label_text('(%) iMN yield\\nper MEF plated')\n",
    "# ax.yaxis.set_ticks(np.arange(0, 1.6, 0.4))\n",
    "# ax.set_box_aspect(4/len(ax.patches)) #change 10 to modify the y/x axis ratio\n",
    "plt.title('14 dpi, NIL')\n",
    "# fig.tight_layout()  # Helps improve white spacing\n",
    "\n",
    "# plt.savefig(figpath + 'bar_yield_noNT_NIL_new.svg', bbox_inches='tight')"
   ]
  },
  {
   "cell_type": "code",
   "execution_count": null,
   "metadata": {},
   "outputs": [
    {
     "name": "stdout",
     "output_type": "stream",
     "text": [
      "p-value annotation legend:\n",
      "      ns: p <= 1.00e+00\n",
      "       *: 1.00e-02 < p <= 5.00e-02\n",
      "      **: 1.00e-03 < p <= 1.00e-02\n",
      "     ***: 1.00e-04 < p <= 1.00e-03\n",
      "    ****: p <= 1.00e-04\n",
      "\n",
      "NIL_NTs vs. NIL_NoNTs: t-test for independent samples from scipy with greater 1-way (mean of the distribution underlying the first sample is greater than the mean of the distribution underlying the second sample), P_val:1.448e-01 Stat=1.219e+00\n"
     ]
    },
    {
     "name": "stderr",
     "output_type": "stream",
     "text": [
      "/Users/natwang/Documents/GitHub/article-engraftable-neurons/env/lib/python3.9/site-packages/statannotations/_Plotter.py:337: UserWarning: Invalid x-position found. Are the same parameters passed to seaborn and statannotations calls? or are there few data points?\n",
      "  warnings.warn(\n",
      "/Users/natwang/Documents/GitHub/article-engraftable-neurons/env/lib/python3.9/site-packages/statannotations/_Plotter.py:337: UserWarning: Invalid x-position found. Are the same parameters passed to seaborn and statannotations calls? or are there few data points?\n",
      "  warnings.warn(\n"
     ]
    },
    {
     "data": {
      "image/png": "[encoded data removed]",
      "text/plain": [
       "<Figure size 108x108 with 1 Axes>"
      ]
     },
     "metadata": {
      "needs_background": "light"
     },
     "output_type": "display_data"
    }
   ],
   "source": [
    "# Plotting params\n",
    "x = 'cond'\n",
    "units = 'sampleNum'\n",
    "cond_list = ['NIL_NTs', 'NIL_NoNTs']\n",
    "marker_list = ['o', 's', '^', 'D']\n",
    "\n",
    "# Plot\n",
    "fig, ax = plt.subplots(1, 1, figsize=(1.5, 1.5))\n",
    "\n",
    "# Plot iMN yield\n",
    "y = 'percent'\n",
    "f = sns.barplot(ax=ax, data=data_iMN_percent_reps,\n",
    "                x=x, y=y, order=cond_list,\n",
    "                units=units, alpha=0.3)\n",
    "for (i, rep) in enumerate(data_iMN_percent_reps.replicate.unique()):\n",
    "    sns.stripplot(\n",
    "        ax=ax, data=data_iMN_percent_reps[data_iMN_percent_reps.replicate == rep],\n",
    "        x=x, y=y, order=cond_list,\n",
    "        dodge=True, marker=marker_list[i],\n",
    "        color='white', size=5,\n",
    "        edgecolor='black', linewidth=0.4,)\n",
    "\n",
    "# Pairs for stats comp\n",
    "pairs = [('NIL_NTs', 'NIL_NoNTs')]\n",
    "# Add in stats for iMN yield\n",
    "annot = Annotator(ax=ax, data=data_iMN_percent, x=x, y=y, pairs=pairs, order=cond_list)\n",
    "annot.configure(test=ttest_ind_greater, text_format='star', loc='inside', verbose=2)\n",
    "annot.apply_and_annotate()\n",
    "\n",
    "# Add barplot labels\n",
    "for i in ax.containers:\n",
    "    bar_labels = ax.bar_label(i, fmt='%0.1f', padding=10)\n",
    "    for label in bar_labels:\n",
    "        label.set_bbox(dict(facecolor='white', alpha=0.75, linewidth=0, pad=1))\n",
    "\n",
    "# Format\n",
    "f.set_xticklabels(['NT', 'None'])\n",
    "ax.yaxis.set_label_text('(%) iMN\\nof all cells')\n",
    "# ax.yaxis.set_ticks(np.arange(0, 1.3, 0.4))\n",
    "# ax.set_box_aspect(4/len(ax.patches)) #change 10 to modify the y/x axis ratio\n",
    "plt.title('14 dpi, NIL')\n",
    "# fig.tight_layout()  # Helps improve white spacing\n",
    "\n",
    "# plt.savefig(figpath + 'SI/bar_percent_noNT_NIL_new-smaller.svg', bbox_inches='tight')"
   ]
  },
  {
   "cell_type": "markdown",
   "metadata": {},
   "source": [
    "## Plot all together"
   ]
  },
  {
   "cell_type": "code",
   "execution_count": null,
   "metadata": {},
   "outputs": [
    {
     "name": "stdout",
     "output_type": "stream",
     "text": [
      "p-value annotation legend:\n",
      "      ns: p <= 1.00e+00\n",
      "       *: 1.00e-02 < p <= 5.00e-02\n",
      "      **: 1.00e-03 < p <= 1.00e-02\n",
      "     ***: 1.00e-04 < p <= 1.00e-03\n",
      "    ****: p <= 1.00e-04\n",
      "\n",
      "NIL-HIP-W_NTs_RS vs. NIL-HIP-W_NoNTs_RS: t-test independent samples with Bonferroni correction, P_val:1.000e+00 t=-6.041e-01\n",
      "NIL-HIP-W_NoNTs_RS vs. NIL-HIP-W_NoNTs_NoRS: t-test independent samples with Bonferroni correction, P_val:1.000e+00 t=-3.123e-01\n",
      "NIL-HIP-W_NTs_RS vs. NIL-HIP-W_NoNTs_NoRS: t-test independent samples with Bonferroni correction, P_val:1.000e+00 t=-9.810e-01\n",
      "p-value annotation legend:\n",
      "      ns: p <= 1.00e+00\n",
      "       *: 1.00e-02 < p <= 5.00e-02\n",
      "      **: 1.00e-03 < p <= 1.00e-02\n",
      "     ***: 1.00e-04 < p <= 1.00e-03\n",
      "    ****: p <= 1.00e-04\n",
      "\n",
      "NIL_NTs vs. NIL_NoNTs: t-test for independent samples from scipy with greater 1-way (mean of the distribution underlying the first sample is greater than the mean of the distribution underlying the second sample) with Bonferroni correction, P_val:3.914e-02 Stat=2.353e+00\n"
     ]
    },
    {
     "name": "stderr",
     "output_type": "stream",
     "text": [
      "/Users/natwang/Documents/GitHub/article-engraftable-neurons/env/lib/python3.9/site-packages/statannotations/_Plotter.py:337: UserWarning: Invalid x-position found. Are the same parameters passed to seaborn and statannotations calls? or are there few data points?\n",
      "  warnings.warn(\n",
      "/Users/natwang/Documents/GitHub/article-engraftable-neurons/env/lib/python3.9/site-packages/statannotations/_Plotter.py:337: UserWarning: Invalid x-position found. Are the same parameters passed to seaborn and statannotations calls? or are there few data points?\n",
      "  warnings.warn(\n",
      "/Users/natwang/Documents/GitHub/article-engraftable-neurons/env/lib/python3.9/site-packages/statannotations/_Plotter.py:337: UserWarning: Invalid x-position found. Are the same parameters passed to seaborn and statannotations calls? or are there few data points?\n",
      "  warnings.warn(\n",
      "/Users/natwang/Documents/GitHub/article-engraftable-neurons/env/lib/python3.9/site-packages/statannotations/_Plotter.py:337: UserWarning: Invalid x-position found. Are the same parameters passed to seaborn and statannotations calls? or are there few data points?\n",
      "  warnings.warn(\n",
      "/Users/natwang/Documents/GitHub/article-engraftable-neurons/env/lib/python3.9/site-packages/statannotations/_Plotter.py:337: UserWarning: Invalid x-position found. Are the same parameters passed to seaborn and statannotations calls? or are there few data points?\n",
      "  warnings.warn(\n",
      "/Users/natwang/Documents/GitHub/article-engraftable-neurons/env/lib/python3.9/site-packages/statannotations/_Plotter.py:337: UserWarning: Invalid x-position found. Are the same parameters passed to seaborn and statannotations calls? or are there few data points?\n",
      "  warnings.warn(\n",
      "/Users/natwang/Documents/GitHub/article-engraftable-neurons/env/lib/python3.9/site-packages/statannotations/_Plotter.py:337: UserWarning: Invalid x-position found. Are the same parameters passed to seaborn and statannotations calls? or are there few data points?\n",
      "  warnings.warn(\n",
      "/Users/natwang/Documents/GitHub/article-engraftable-neurons/env/lib/python3.9/site-packages/statannotations/_Plotter.py:337: UserWarning: Invalid x-position found. Are the same parameters passed to seaborn and statannotations calls? or are there few data points?\n",
      "  warnings.warn(\n"
     ]
    },
    {
     "data": {
      "image/png": "[encoded data removed]",
      "text/plain": [
       "<Figure size 324x180 with 1 Axes>"
      ]
     },
     "metadata": {
      "needs_background": "light"
     },
     "output_type": "display_data"
    }
   ],
   "source": [
    "# Plotting params\n",
    "x = 'cond'\n",
    "units = 'sampleNum'\n",
    "marker_list = ['o', 's', '^', 'D']\n",
    "\n",
    "# Conditions\n",
    "cond_list = ['NIL_NTs', 'NIL_NoNTs', 'NIL-HIP-W_NTs_RS', 'NIL-HIP-W_NoNTs_RS', 'NIL-HIP-W_NoNTs_NoRS']\n",
    "\n",
    "# Plot\n",
    "fig, ax = plt.subplots(1, 1, figsize=(4.5, 2.5))\n",
    "\n",
    "\n",
    "# Plot iMN yield\n",
    "y = 'yield'\n",
    "f = sns.barplot(ax=ax, data=data_iMN_yield_reps,\n",
    "                x=x, y=y, order=cond_list,\n",
    "                units=units, alpha=0.3)\n",
    "for (i, rep) in enumerate(data_iMN_yield_reps.replicate.unique()):\n",
    "    sns.stripplot(\n",
    "        ax=ax, data=data_iMN_yield_reps[data_iMN_yield_reps.replicate == rep],\n",
    "        x=x, y=y, order=cond_list,\n",
    "        dodge=True, marker=marker_list[i],\n",
    "        color='white', size=5,\n",
    "        edgecolor='black', linewidth=0.4,)\n",
    "\n",
    "# Pairs for stats comp\n",
    "pairs = [('NIL-HIP-W_NTs_RS', 'NIL-HIP-W_NoNTs_RS'),\n",
    "    ('NIL-HIP-W_NTs_RS', 'NIL-HIP-W_NoNTs_NoRS'),\n",
    "    ('NIL-HIP-W_NoNTs_RS', 'NIL-HIP-W_NoNTs_NoRS')]\n",
    "# Add in stats for iMN yield\n",
    "annot = Annotator(ax=ax, data=data_iMN_yield, x=x, y=y, pairs=pairs, order=cond_list)\n",
    "annot.configure(test='t-test_ind', comparisons_correction='Bonferroni', text_format='star', loc='inside', verbose=2)\n",
    "annot.apply_test().annotate(line_offset_to_group=0.2)\n",
    "# Add in NIL separately\n",
    "pairs = [('NIL_NTs', 'NIL_NoNTs')]\n",
    "annot = Annotator(ax=ax, data=data_iMN_yield, x=x, y=y, pairs=pairs, order=cond_list)\n",
    "annot.configure(test=ttest_ind_greater, comparisons_correction='Bonferroni', text_format='star', loc='inside', verbose=2)\n",
    "annot.apply_test().annotate(line_offset_to_group=0.2)\n",
    "\n",
    "# Add barplot labels\n",
    "for i in ax.containers:\n",
    "    bar_labels = ax.bar_label(i, fmt='%0.0f', padding=0)\n",
    "    for label in bar_labels:\n",
    "        label.set_bbox(dict(facecolor='white', alpha=0.75, linewidth=0, pad=1))\n",
    "\n",
    "# Format\n",
    "f.set_xticklabels([\n",
    "    'NT', 'None',\n",
    "    'NT\\n+ RepSox', 'Only\\nRepSox', 'None'])\n",
    "ax.yaxis.set_label_text('(%) iMN yield\\nper MEF plated')\n",
    "ax.yaxis.set_ticks(np.arange(0, 400, 100))\n",
    "ax.set_ylim((0, 380))\n",
    "plt.title('14 dpi, NIL + DDRR')\n",
    "# fig.tight_layout()  # Helps improve white spacing\n",
    "\n",
    "# plt.savefig(figpath + 'bar_yield_noNT_NILDDRR_new.svg', bbox_inches='tight')"
   ]
  },
  {
   "cell_type": "code",
   "execution_count": null,
   "metadata": {},
   "outputs": [
    {
     "name": "stdout",
     "output_type": "stream",
     "text": [
      "p-value annotation legend:\n",
      "      ns: p <= 1.00e+00\n",
      "       *: 1.00e-02 < p <= 5.00e-02\n",
      "      **: 1.00e-03 < p <= 1.00e-02\n",
      "     ***: 1.00e-04 < p <= 1.00e-03\n",
      "    ****: p <= 1.00e-04\n",
      "\n",
      "NIL-HIP-W_NTs_RS vs. NIL-HIP-W_NoNTs_RS: t-test independent samples with Bonferroni correction, P_val:1.000e+00 t=-4.613e-01\n",
      "NIL-HIP-W_NoNTs_RS vs. NIL-HIP-W_NoNTs_NoRS: t-test independent samples with Bonferroni correction, P_val:9.146e-01 t=1.176e+00\n",
      "NIL-HIP-W_NTs_RS vs. NIL-HIP-W_NoNTs_NoRS: t-test independent samples with Bonferroni correction, P_val:1.000e+00 t=3.152e-01\n",
      "p-value annotation legend:\n",
      "      ns: p <= 1.00e+00\n",
      "       *: 1.00e-02 < p <= 5.00e-02\n",
      "      **: 1.00e-03 < p <= 1.00e-02\n",
      "     ***: 1.00e-04 < p <= 1.00e-03\n",
      "    ****: p <= 1.00e-04\n",
      "\n",
      "NIL_NTs vs. NIL_NoNTs: t-test for independent samples from scipy with greater 1-way (mean of the distribution underlying the first sample is greater than the mean of the distribution underlying the second sample) with Bonferroni correction, P_val:1.448e-01 Stat=1.219e+00\n"
     ]
    },
    {
     "name": "stderr",
     "output_type": "stream",
     "text": [
      "/Users/natwang/Documents/GitHub/article-engraftable-neurons/env/lib/python3.9/site-packages/statannotations/_Plotter.py:337: UserWarning: Invalid x-position found. Are the same parameters passed to seaborn and statannotations calls? or are there few data points?\n",
      "  warnings.warn(\n",
      "/Users/natwang/Documents/GitHub/article-engraftable-neurons/env/lib/python3.9/site-packages/statannotations/_Plotter.py:337: UserWarning: Invalid x-position found. Are the same parameters passed to seaborn and statannotations calls? or are there few data points?\n",
      "  warnings.warn(\n",
      "/Users/natwang/Documents/GitHub/article-engraftable-neurons/env/lib/python3.9/site-packages/statannotations/_Plotter.py:337: UserWarning: Invalid x-position found. Are the same parameters passed to seaborn and statannotations calls? or are there few data points?\n",
      "  warnings.warn(\n",
      "/Users/natwang/Documents/GitHub/article-engraftable-neurons/env/lib/python3.9/site-packages/statannotations/_Plotter.py:337: UserWarning: Invalid x-position found. Are the same parameters passed to seaborn and statannotations calls? or are there few data points?\n",
      "  warnings.warn(\n",
      "/Users/natwang/Documents/GitHub/article-engraftable-neurons/env/lib/python3.9/site-packages/statannotations/_Plotter.py:337: UserWarning: Invalid x-position found. Are the same parameters passed to seaborn and statannotations calls? or are there few data points?\n",
      "  warnings.warn(\n",
      "/Users/natwang/Documents/GitHub/article-engraftable-neurons/env/lib/python3.9/site-packages/statannotations/_Plotter.py:337: UserWarning: Invalid x-position found. Are the same parameters passed to seaborn and statannotations calls? or are there few data points?\n",
      "  warnings.warn(\n"
     ]
    },
    {
     "data": {
      "image/png": "[encoded data removed]",
      "text/plain": [
       "<Figure size 324x180 with 1 Axes>"
      ]
     },
     "metadata": {
      "needs_background": "light"
     },
     "output_type": "display_data"
    }
   ],
   "source": [
    "# Plotting params\n",
    "x = 'cond'\n",
    "units = 'sampleNum'\n",
    "marker_list = ['o', 's', '^', 'D']\n",
    "\n",
    "# Conditions\n",
    "cond_list = ['NIL_NTs', 'NIL_NoNTs', 'NIL-HIP-W_NTs_RS', 'NIL-HIP-W_NoNTs_RS', 'NIL-HIP-W_NoNTs_NoRS']\n",
    "\n",
    "# Plot\n",
    "fig, ax = plt.subplots(1, 1, figsize=(4.5, 2.5))\n",
    "\n",
    "\n",
    "# Plot iMN percent\n",
    "y = 'percent'\n",
    "f = sns.barplot(ax=ax, data=data_iMN_percent_reps,\n",
    "                x=x, y=y, order=cond_list,\n",
    "                units=units, alpha=0.3)\n",
    "for (i, rep) in enumerate(data_iMN_yield_reps.replicate.unique()):\n",
    "    sns.stripplot(\n",
    "        ax=ax, data=data_iMN_percent_reps[data_iMN_percent_reps.replicate == rep],\n",
    "        x=x, y=y, order=cond_list,\n",
    "        dodge=True, marker=marker_list[i],\n",
    "        color='white', size=5,\n",
    "        edgecolor='black', linewidth=0.4,)\n",
    "\n",
    "# Pairs for stats comp\n",
    "pairs = [('NIL-HIP-W_NTs_RS', 'NIL-HIP-W_NoNTs_RS'),\n",
    "    ('NIL-HIP-W_NTs_RS', 'NIL-HIP-W_NoNTs_NoRS'),\n",
    "    ('NIL-HIP-W_NoNTs_RS', 'NIL-HIP-W_NoNTs_NoRS')]\n",
    "# Add in stats for iMN yield\n",
    "annot = Annotator(ax=ax, data=data_iMN_percent, x=x, y=y, pairs=pairs, order=cond_list)\n",
    "annot.configure(test='t-test_ind', comparisons_correction='Bonferroni', text_format='star', loc='inside', verbose=2)\n",
    "annot.apply_test().annotate(line_offset_to_group=0.2)\n",
    "# Add in NIL separately\n",
    "pairs = [('NIL_NTs', 'NIL_NoNTs')]\n",
    "annot = Annotator(ax=ax, data=data_iMN_percent, x=x, y=y, pairs=pairs, order=cond_list)\n",
    "annot.configure(test=ttest_ind_greater, comparisons_correction='Bonferroni', text_format='star', loc='inside', verbose=2)\n",
    "annot.apply_test().annotate(line_offset_to_group=0.2)\n",
    "\n",
    "# Add barplot labels\n",
    "for i in ax.containers:\n",
    "    bar_labels = ax.bar_label(i, fmt='%0.0f', padding=0)\n",
    "    for label in bar_labels:\n",
    "        label.set_bbox(dict(facecolor='white', alpha=0.75, linewidth=0, pad=1))\n",
    "\n",
    "# Format\n",
    "f.set_xticklabels([\n",
    "    'NT', 'None',\n",
    "    'NT\\n+ RepSox', 'Only\\nRepSox', 'None'])\n",
    "ax.yaxis.set_label_text('(%) iMN\\nof all cells')\n",
    "# ax.yaxis.set_ticks(np.arange(0, 400, 100))\n",
    "# ax.set_ylim((0, 380))\n",
    "plt.title('14 dpi, NIL + DDRR')\n",
    "# fig.tight_layout()  # Helps improve white spacing\n",
    "\n",
    "# plt.savefig(figpath + 'SI/bar_percent_noNT_NILDDRR_new.svg', bbox_inches='tight')"
   ]
  }
 ],
 "metadata": {
  "kernelspec": {
   "display_name": "env",
   "language": "python",
   "name": "python3"
  },
  "language_info": {
   "codemirror_mode": {
    "name": "ipython",
    "version": 3
   },
   "file_extension": ".py",
   "mimetype": "text/x-python",
   "name": "python",
   "nbconvert_exporter": "python",
   "pygments_lexer": "ipython3",
   "version": "3.9.6"
  },
  "metadata": {
   "interpreter": {
    "hash": "31f2aee4e71d21fbe5cf8b01ff0e069b9275f58929596ceb00d14d90e3e16cd6"
   }
  }
 },
 "nbformat": 4,
 "nbformat_minor": 2
}
